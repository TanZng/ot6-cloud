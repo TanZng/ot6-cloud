{
 "cells": [
  {
   "cell_type": "code",
   "execution_count": 1,
   "metadata": {},
   "outputs": [],
   "source": [
    "import pandas as pd"
   ]
  },
  {
   "cell_type": "code",
   "execution_count": 3,
   "metadata": {},
   "outputs": [],
   "source": [
    "# load data\n",
    "DATA_FILE_PATH = 'insert path here'\n",
    "DATA_FILE_NAME_GLOBAL = 'GlobalTemperatures.csv'\n",
    "DATA_FILE_NAME_CITY = 'GlobalTemperaturesByCity.csv'\n",
    "\n",
    "df_global = pd.read_csv(DATA_FILE_PATH + DATA_FILE_NAME_GLOBAL)\n",
    "df_global['dt'] = pd.to_datetime(df_global['dt'], format='%Y-%m-%d')\n",
    "\n",
    "df_per_city = pd.read_csv(DATA_FILE_PATH + DATA_FILE_NAME_CITY)\n",
    "df_per_city['dt'] = pd.to_datetime(df_per_city['dt'], format='%Y-%m-%d')"
   ]
  },
  {
   "cell_type": "markdown",
   "metadata": {},
   "source": [
    "Can global warming be observed on earth's temperature evolution?"
   ]
  },
  {
   "cell_type": "code",
   "execution_count": 26,
   "metadata": {},
   "outputs": [
    {
     "data": {
      "text/html": [
       "<div>\n",
       "<style scoped>\n",
       "    .dataframe tbody tr th:only-of-type {\n",
       "        vertical-align: middle;\n",
       "    }\n",
       "\n",
       "    .dataframe tbody tr th {\n",
       "        vertical-align: top;\n",
       "    }\n",
       "\n",
       "    .dataframe thead th {\n",
       "        text-align: right;\n",
       "    }\n",
       "</style>\n",
       "<table border=\"1\" class=\"dataframe\">\n",
       "  <thead>\n",
       "    <tr style=\"text-align: right;\">\n",
       "      <th></th>\n",
       "      <th>year</th>\n",
       "      <th>land_temp_per_year</th>\n",
       "      <th>land_and_ocean_temp_per_year</th>\n",
       "    </tr>\n",
       "  </thead>\n",
       "  <tbody>\n",
       "    <tr>\n",
       "      <th>0</th>\n",
       "      <td>1750.0</td>\n",
       "      <td>8.719364</td>\n",
       "      <td>NaN</td>\n",
       "    </tr>\n",
       "    <tr>\n",
       "      <th>1</th>\n",
       "      <td>1751.0</td>\n",
       "      <td>7.976143</td>\n",
       "      <td>NaN</td>\n",
       "    </tr>\n",
       "    <tr>\n",
       "      <th>2</th>\n",
       "      <td>1752.0</td>\n",
       "      <td>5.779833</td>\n",
       "      <td>NaN</td>\n",
       "    </tr>\n",
       "    <tr>\n",
       "      <th>3</th>\n",
       "      <td>1753.0</td>\n",
       "      <td>8.388083</td>\n",
       "      <td>NaN</td>\n",
       "    </tr>\n",
       "    <tr>\n",
       "      <th>4</th>\n",
       "      <td>1754.0</td>\n",
       "      <td>8.469333</td>\n",
       "      <td>NaN</td>\n",
       "    </tr>\n",
       "    <tr>\n",
       "      <th>...</th>\n",
       "      <td>...</td>\n",
       "      <td>...</td>\n",
       "      <td>...</td>\n",
       "    </tr>\n",
       "    <tr>\n",
       "      <th>261</th>\n",
       "      <td>2011.0</td>\n",
       "      <td>9.516000</td>\n",
       "      <td>15.769500</td>\n",
       "    </tr>\n",
       "    <tr>\n",
       "      <th>262</th>\n",
       "      <td>2012.0</td>\n",
       "      <td>9.507333</td>\n",
       "      <td>15.802333</td>\n",
       "    </tr>\n",
       "    <tr>\n",
       "      <th>263</th>\n",
       "      <td>2013.0</td>\n",
       "      <td>9.606500</td>\n",
       "      <td>15.854417</td>\n",
       "    </tr>\n",
       "    <tr>\n",
       "      <th>264</th>\n",
       "      <td>2014.0</td>\n",
       "      <td>9.570667</td>\n",
       "      <td>15.913000</td>\n",
       "    </tr>\n",
       "    <tr>\n",
       "      <th>265</th>\n",
       "      <td>2015.0</td>\n",
       "      <td>9.831000</td>\n",
       "      <td>16.058583</td>\n",
       "    </tr>\n",
       "  </tbody>\n",
       "</table>\n",
       "<p>266 rows × 3 columns</p>\n",
       "</div>"
      ],
      "text/plain": [
       "       year  land_temp_per_year  land_and_ocean_temp_per_year\n",
       "0    1750.0            8.719364                           NaN\n",
       "1    1751.0            7.976143                           NaN\n",
       "2    1752.0            5.779833                           NaN\n",
       "3    1753.0            8.388083                           NaN\n",
       "4    1754.0            8.469333                           NaN\n",
       "..      ...                 ...                           ...\n",
       "261  2011.0            9.516000                     15.769500\n",
       "262  2012.0            9.507333                     15.802333\n",
       "263  2013.0            9.606500                     15.854417\n",
       "264  2014.0            9.570667                     15.913000\n",
       "265  2015.0            9.831000                     16.058583\n",
       "\n",
       "[266 rows x 3 columns]"
      ]
     },
     "metadata": {},
     "output_type": "display_data"
    }
   ],
   "source": [
    "# average for each year\n",
    "average_temp_per_year_df = pd.DataFrame({ \"year\": [], \"land_temp_per_year\": [], \"land_and_ocean_temp_per_year\": []})\n",
    "\n",
    "years = list(range(1750, 2015+1))\n",
    "\n",
    "for year in years:\n",
    "    filtered_df = df_global.loc[(df['dt'] >= str(year) + '-01-01')\n",
    "                     & (df_global['dt'] < str(year) +'-12-02')]\n",
    "    mean_land = filtered_df.LandAverageTemperature.mean()\n",
    "    mean_land_and_ocean = filtered_df.LandAndOceanAverageTemperature.mean(skipna=True)\n",
    "    average_temp_per_year_df.loc[len(average_temp_per_year_df)] = [year, mean_land, mean_land_and_ocean]\n",
    "\n",
    "display(average_temp_per_year_df.sort_values(by=['year']))\n"
   ]
  },
  {
   "cell_type": "markdown",
   "metadata": {},
   "source": [
    "Can the average country temperature be plotted in a compact way? you\n",
    "may take a (logical) sample of countries. You may also get the year’s\n",
    "average temperature for each."
   ]
  },
  {
   "cell_type": "code",
   "execution_count": null,
   "metadata": {},
   "outputs": [],
   "source": [
    "# get average temperature per country\n",
    "df_per_city"
   ]
  }
 ],
 "metadata": {
  "kernelspec": {
   "display_name": "Python 3.10.8 ('ot6')",
   "language": "python",
   "name": "python3"
  },
  "language_info": {
   "codemirror_mode": {
    "name": "ipython",
    "version": 3
   },
   "file_extension": ".py",
   "mimetype": "text/x-python",
   "name": "python",
   "nbconvert_exporter": "python",
   "pygments_lexer": "ipython3",
   "version": "3.10.8"
  },
  "orig_nbformat": 4,
  "vscode": {
   "interpreter": {
    "hash": "774ac995c8bffcfec9570c3ecc302aed974c937b75c6e176c565ef8ea42e67ba"
   }
  }
 },
 "nbformat": 4,
 "nbformat_minor": 2
}
