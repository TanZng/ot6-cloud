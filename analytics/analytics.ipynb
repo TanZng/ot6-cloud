{
 "cells": [
  {
   "cell_type": "code",
   "execution_count": 1,
   "metadata": {
    "lines_to_next_cell": 2
   },
   "outputs": [
    {
     "data": {
      "text/html": [
       "\n",
       "            <div>\n",
       "                <p><b>SparkSession - in-memory</b></p>\n",
       "                \n",
       "        <div>\n",
       "            <p><b>SparkContext</b></p>\n",
       "\n",
       "            <p><a href=\"http://954274e2a1d2:4040\">Spark UI</a></p>\n",
       "\n",
       "            <dl>\n",
       "              <dt>Version</dt>\n",
       "                <dd><code>v3.3.0</code></dd>\n",
       "              <dt>Master</dt>\n",
       "                <dd><code>spark://spark:7077</code></dd>\n",
       "              <dt>AppName</dt>\n",
       "                <dd><code>jupyter-notebook</code></dd>\n",
       "            </dl>\n",
       "        </div>\n",
       "        \n",
       "            </div>\n",
       "        "
      ],
      "text/plain": [
       "<pyspark.sql.session.SparkSession at 0x7fba8fb2a0a0>"
      ]
     },
     "execution_count": 1,
     "metadata": {},
     "output_type": "execute_result"
    }
   ],
   "source": [
    "import findspark\n",
    "findspark.init()\n",
    "\n",
    "from pyspark import SparkConf\n",
    "from pyspark.sql import SparkSession\n",
    "from pyspark.sql.functions import *\n",
    "from pyspark.sql.types import *\n",
    "\n",
    "# Spark session & context\n",
    "spark = SparkSession.builder.master(\"spark://spark:7077\") \\\n",
    "        .appName(\"jupyter-notebook\") \\\n",
    "        .config(\"spark.driver.memory\", \"512m\") \\\n",
    "        .config(\"spark.mongodb.write.connection.uri\", \"mongodb://mongodb:27017/test.myCollection\") \\\n",
    "        .config(\"spark.mongodb.read.connection.uri\", \"mongodb://mongodb:27017/test.myCollection\") \\\n",
    "        .config('spark.jars.packages', 'org.mongodb.spark:mongo-spark-connector:10.0.5') \\\n",
    "        .getOrCreate()\n",
    "spark"
   ]
  },
  {
   "cell_type": "code",
   "execution_count": 2,
   "metadata": {},
   "outputs": [
    {
     "data": {
      "text/html": [
       "\n",
       "        <div>\n",
       "            <p><b>SparkContext</b></p>\n",
       "\n",
       "            <p><a href=\"http://954274e2a1d2:4040\">Spark UI</a></p>\n",
       "\n",
       "            <dl>\n",
       "              <dt>Version</dt>\n",
       "                <dd><code>v3.3.0</code></dd>\n",
       "              <dt>Master</dt>\n",
       "                <dd><code>spark://spark:7077</code></dd>\n",
       "              <dt>AppName</dt>\n",
       "                <dd><code>jupyter-notebook</code></dd>\n",
       "            </dl>\n",
       "        </div>\n",
       "        "
      ],
      "text/plain": [
       "<SparkContext master=spark://spark:7077 appName=jupyter-notebook>"
      ]
     },
     "execution_count": 2,
     "metadata": {},
     "output_type": "execute_result"
    }
   ],
   "source": [
    "sc = spark.sparkContext\n",
    "sc"
   ]
  },
  {
   "cell_type": "code",
   "execution_count": 3,
   "metadata": {},
   "outputs": [
    {
     "data": {
      "text/plain": [
       "500500"
      ]
     },
     "execution_count": 3,
     "metadata": {},
     "output_type": "execute_result"
    }
   ],
   "source": [
    "# Sum of the first 100 whole numbers\n",
    "rdd = sc.parallelize(range(1000+1))\n",
    "rdd.sum()"
   ]
  },
  {
   "cell_type": "markdown",
   "metadata": {},
   "source": [
    "# WOW\n",
    "Nose\n"
   ]
  },
  {
   "cell_type": "code",
   "execution_count": 4,
   "metadata": {},
   "outputs": [
    {
     "name": "stdout",
     "output_type": "stream",
     "text": [
      "+-------------+----+\n",
      "|         name| age|\n",
      "+-------------+----+\n",
      "|Bilbo Baggins|  50|\n",
      "|      Gandalf|1000|\n",
      "|       Thorin| 195|\n",
      "|        Balin| 178|\n",
      "|         Kili|  77|\n",
      "|       Dwalin| 169|\n",
      "|          Oin| 167|\n",
      "|        Gloin| 158|\n",
      "|         Fili|  82|\n",
      "|       Bombur|  50|\n",
      "+-------------+----+\n",
      "\n"
     ]
    }
   ],
   "source": [
    "people = spark.createDataFrame([(\"Bilbo Baggins\",  50), (\"Gandalf\", 1000), (\"Thorin\", 195), (\"Balin\", 178), (\"Kili\", 77),\n",
    "   (\"Dwalin\", 169), (\"Oin\", 167), (\"Gloin\", 158), (\"Fili\", 82), (\"Bombur\", 50)], schema='name string, age int')\n",
    "\n",
    "people.write.format(\"mongodb\").mode(\"append\").save()\n",
    "\n",
    "# If you need to write to a different MongoDB collection, use the .option() \n",
    "# method with .write().\n",
    "# To write to a collection called contacts in a database called people, \n",
    "# specify the collection and database with .option():\n",
    "# people.write.format(\"mongodb\").mode(\"append\").option(\"database\",\"people\").option(\"collection\", \"contacts\").save()\n",
    "\n",
    "people.show()"
   ]
  },
  {
   "cell_type": "code",
   "execution_count": 5,
   "metadata": {},
   "outputs": [
    {
     "name": "stdout",
     "output_type": "stream",
     "text": [
      "+-------------+----+\n",
      "|         name| age|\n",
      "+-------------+----+\n",
      "|Bilbo Baggins|  50|\n",
      "|      Gandalf|1000|\n",
      "|       Thorin| 195|\n",
      "|        Balin| 178|\n",
      "|         Kili|  77|\n",
      "|       Dwalin| 169|\n",
      "|          Oin| 167|\n",
      "|        Gloin| 158|\n",
      "|         Fili|  82|\n",
      "|       Bombur|  50|\n",
      "+-------------+----+\n",
      "\n"
     ]
    }
   ],
   "source": [
    "people.show()"
   ]
  },
  {
   "cell_type": "code",
   "execution_count": 6,
   "metadata": {},
   "outputs": [
    {
     "name": "stdout",
     "output_type": "stream",
     "text": [
      "root\n",
      " |-- name: string (nullable = true)\n",
      " |-- age: integer (nullable = true)\n",
      "\n"
     ]
    }
   ],
   "source": [
    "people.printSchema()"
   ]
  },
  {
   "cell_type": "code",
   "execution_count": 7,
   "metadata": {},
   "outputs": [
    {
     "name": "stdout",
     "output_type": "stream",
     "text": [
      "root\n",
      " |-- _id: string (nullable = true)\n",
      " |-- age: integer (nullable = true)\n",
      " |-- name: string (nullable = true)\n",
      "\n"
     ]
    }
   ],
   "source": [
    "df = spark.read.format(\"mongodb\").load()\n",
    "df.printSchema()"
   ]
  },
  {
   "cell_type": "code",
   "execution_count": 47,
   "metadata": {},
   "outputs": [
    {
     "ename": "Py4JJavaError",
     "evalue": "An error occurred while calling o294.showString.\n: org.apache.spark.SparkException: Job aborted due to stage failure: Task 0 in stage 25.0 failed 4 times, most recent failure: Lost task 0.3 in stage 25.0 (TID 64) (192.168.32.2 executor 0): java.io.InvalidClassException: org.apache.spark.util.collection.BitSet; local class incompatible: stream classdesc serialVersionUID = 250628929810266153, local class serialVersionUID = 59660257146063567\n\tat java.io.ObjectStreamClass.initNonProxy(ObjectStreamClass.java:699)\n\tat java.io.ObjectInputStream.readNonProxyDesc(ObjectInputStream.java:2005)\n\tat java.io.ObjectInputStream.readClassDesc(ObjectInputStream.java:1852)\n\tat java.io.ObjectInputStream.readNonProxyDesc(ObjectInputStream.java:2005)\n\tat java.io.ObjectInputStream.readClassDesc(ObjectInputStream.java:1852)\n\tat java.io.ObjectInputStream.readOrdinaryObject(ObjectInputStream.java:2186)\n\tat java.io.ObjectInputStream.readObject0(ObjectInputStream.java:1669)\n\tat java.io.ObjectInputStream.defaultReadFields(ObjectInputStream.java:2431)\n\tat java.io.ObjectInputStream.readSerialData(ObjectInputStream.java:2355)\n\tat java.io.ObjectInputStream.readOrdinaryObject(ObjectInputStream.java:2213)\n\tat java.io.ObjectInputStream.readObject0(ObjectInputStream.java:1669)\n\tat java.io.ObjectInputStream.readArray(ObjectInputStream.java:2119)\n\tat java.io.ObjectInputStream.readObject0(ObjectInputStream.java:1657)\n\tat java.io.ObjectInputStream.defaultReadFields(ObjectInputStream.java:2431)\n\tat java.io.ObjectInputStream.readSerialData(ObjectInputStream.java:2355)\n\tat java.io.ObjectInputStream.readOrdinaryObject(ObjectInputStream.java:2213)\n\tat java.io.ObjectInputStream.readObject0(ObjectInputStream.java:1669)\n\tat java.io.ObjectInputStream.defaultReadFields(ObjectInputStream.java:2431)\n\tat java.io.ObjectInputStream.readSerialData(ObjectInputStream.java:2355)\n\tat java.io.ObjectInputStream.readOrdinaryObject(ObjectInputStream.java:2213)\n\tat java.io.ObjectInputStream.readObject0(ObjectInputStream.java:1669)\n\tat java.io.ObjectInputStream.defaultReadFields(ObjectInputStream.java:2431)\n\tat java.io.ObjectInputStream.readSerialData(ObjectInputStream.java:2355)\n\tat java.io.ObjectInputStream.readOrdinaryObject(ObjectInputStream.java:2213)\n\tat java.io.ObjectInputStream.readObject0(ObjectInputStream.java:1669)\n\tat java.io.ObjectInputStream.defaultReadFields(ObjectInputStream.java:2431)\n\tat java.io.ObjectInputStream.readSerialData(ObjectInputStream.java:2355)\n\tat java.io.ObjectInputStream.readOrdinaryObject(ObjectInputStream.java:2213)\n\tat java.io.ObjectInputStream.readObject0(ObjectInputStream.java:1669)\n\tat java.io.ObjectInputStream.readObject(ObjectInputStream.java:503)\n\tat java.io.ObjectInputStream.readObject(ObjectInputStream.java:461)\n\tat scala.collection.immutable.List$SerializationProxy.readObject(List.scala:527)\n\tat sun.reflect.GeneratedMethodAccessor7.invoke(Unknown Source)\n\tat sun.reflect.DelegatingMethodAccessorImpl.invoke(DelegatingMethodAccessorImpl.java:43)\n\tat java.lang.reflect.Method.invoke(Method.java:498)\n\tat java.io.ObjectStreamClass.invokeReadObject(ObjectStreamClass.java:1184)\n\tat java.io.ObjectInputStream.readSerialData(ObjectInputStream.java:2322)\n\tat java.io.ObjectInputStream.readOrdinaryObject(ObjectInputStream.java:2213)\n\tat java.io.ObjectInputStream.readObject0(ObjectInputStream.java:1669)\n\tat java.io.ObjectInputStream.defaultReadFields(ObjectInputStream.java:2431)\n\tat java.io.ObjectInputStream.readSerialData(ObjectInputStream.java:2355)\n\tat java.io.ObjectInputStream.readOrdinaryObject(ObjectInputStream.java:2213)\n\tat java.io.ObjectInputStream.readObject0(ObjectInputStream.java:1669)\n\tat java.io.ObjectInputStream.defaultReadFields(ObjectInputStream.java:2431)\n\tat java.io.ObjectInputStream.readSerialData(ObjectInputStream.java:2355)\n\tat java.io.ObjectInputStream.readOrdinaryObject(ObjectInputStream.java:2213)\n\tat java.io.ObjectInputStream.readObject0(ObjectInputStream.java:1669)\n\tat java.io.ObjectInputStream.defaultReadFields(ObjectInputStream.java:2431)\n\tat java.io.ObjectInputStream.readSerialData(ObjectInputStream.java:2355)\n\tat java.io.ObjectInputStream.readOrdinaryObject(ObjectInputStream.java:2213)\n\tat java.io.ObjectInputStream.readObject0(ObjectInputStream.java:1669)\n\tat java.io.ObjectInputStream.defaultReadFields(ObjectInputStream.java:2431)\n\tat java.io.ObjectInputStream.readSerialData(ObjectInputStream.java:2355)\n\tat java.io.ObjectInputStream.readOrdinaryObject(ObjectInputStream.java:2213)\n\tat java.io.ObjectInputStream.readObject0(ObjectInputStream.java:1669)\n\tat java.io.ObjectInputStream.defaultReadFields(ObjectInputStream.java:2431)\n\tat java.io.ObjectInputStream.readSerialData(ObjectInputStream.java:2355)\n\tat java.io.ObjectInputStream.readOrdinaryObject(ObjectInputStream.java:2213)\n\tat java.io.ObjectInputStream.readObject0(ObjectInputStream.java:1669)\n\tat java.io.ObjectInputStream.defaultReadFields(ObjectInputStream.java:2431)\n\tat java.io.ObjectInputStream.readSerialData(ObjectInputStream.java:2355)\n\tat java.io.ObjectInputStream.readOrdinaryObject(ObjectInputStream.java:2213)\n\tat java.io.ObjectInputStream.readObject0(ObjectInputStream.java:1669)\n\tat java.io.ObjectInputStream.readObject(ObjectInputStream.java:503)\n\tat java.io.ObjectInputStream.readObject(ObjectInputStream.java:461)\n\tat scala.collection.immutable.List$SerializationProxy.readObject(List.scala:527)\n\tat sun.reflect.GeneratedMethodAccessor7.invoke(Unknown Source)\n\tat sun.reflect.DelegatingMethodAccessorImpl.invoke(DelegatingMethodAccessorImpl.java:43)\n\tat java.lang.reflect.Method.invoke(Method.java:498)\n\tat java.io.ObjectStreamClass.invokeReadObject(ObjectStreamClass.java:1184)\n\tat java.io.ObjectInputStream.readSerialData(ObjectInputStream.java:2322)\n\tat java.io.ObjectInputStream.readOrdinaryObject(ObjectInputStream.java:2213)\n\tat java.io.ObjectInputStream.readObject0(ObjectInputStream.java:1669)\n\tat java.io.ObjectInputStream.defaultReadFields(ObjectInputStream.java:2431)\n\tat java.io.ObjectInputStream.readSerialData(ObjectInputStream.java:2355)\n\tat java.io.ObjectInputStream.readOrdinaryObject(ObjectInputStream.java:2213)\n\tat java.io.ObjectInputStream.readObject0(ObjectInputStream.java:1669)\n\tat java.io.ObjectInputStream.defaultReadFields(ObjectInputStream.java:2431)\n\tat java.io.ObjectInputStream.readSerialData(ObjectInputStream.java:2355)\n\tat java.io.ObjectInputStream.readOrdinaryObject(ObjectInputStream.java:2213)\n\tat java.io.ObjectInputStream.readObject0(ObjectInputStream.java:1669)\n\tat java.io.ObjectInputStream.readObject(ObjectInputStream.java:503)\n\tat java.io.ObjectInputStream.readObject(ObjectInputStream.java:461)\n\tat scala.collection.immutable.List$SerializationProxy.readObject(List.scala:527)\n\tat sun.reflect.GeneratedMethodAccessor7.invoke(Unknown Source)\n\tat sun.reflect.DelegatingMethodAccessorImpl.invoke(DelegatingMethodAccessorImpl.java:43)\n\tat java.lang.reflect.Method.invoke(Method.java:498)\n\tat java.io.ObjectStreamClass.invokeReadObject(ObjectStreamClass.java:1184)\n\tat java.io.ObjectInputStream.readSerialData(ObjectInputStream.java:2322)\n\tat java.io.ObjectInputStream.readOrdinaryObject(ObjectInputStream.java:2213)\n\tat java.io.ObjectInputStream.readObject0(ObjectInputStream.java:1669)\n\tat java.io.ObjectInputStream.defaultReadFields(ObjectInputStream.java:2431)\n\tat java.io.ObjectInputStream.readSerialData(ObjectInputStream.java:2355)\n\tat java.io.ObjectInputStream.readOrdinaryObject(ObjectInputStream.java:2213)\n\tat java.io.ObjectInputStream.readObject0(ObjectInputStream.java:1669)\n\tat java.io.ObjectInputStream.defaultReadFields(ObjectInputStream.java:2431)\n\tat java.io.ObjectInputStream.readSerialData(ObjectInputStream.java:2355)\n\tat java.io.ObjectInputStream.readOrdinaryObject(ObjectInputStream.java:2213)\n\tat java.io.ObjectInputStream.readObject0(ObjectInputStream.java:1669)\n\tat java.io.ObjectInputStream.readObject(ObjectInputStream.java:503)\n\tat java.io.ObjectInputStream.readObject(ObjectInputStream.java:461)\n\tat scala.collection.immutable.List$SerializationProxy.readObject(List.scala:527)\n\tat sun.reflect.GeneratedMethodAccessor7.invoke(Unknown Source)\n\tat sun.reflect.DelegatingMethodAccessorImpl.invoke(DelegatingMethodAccessorImpl.java:43)\n\tat java.lang.reflect.Method.invoke(Method.java:498)\n\tat java.io.ObjectStreamClass.invokeReadObject(ObjectStreamClass.java:1184)\n\tat java.io.ObjectInputStream.readSerialData(ObjectInputStream.java:2322)\n\tat java.io.ObjectInputStream.readOrdinaryObject(ObjectInputStream.java:2213)\n\tat java.io.ObjectInputStream.readObject0(ObjectInputStream.java:1669)\n\tat java.io.ObjectInputStream.defaultReadFields(ObjectInputStream.java:2431)\n\tat java.io.ObjectInputStream.readSerialData(ObjectInputStream.java:2355)\n\tat java.io.ObjectInputStream.readOrdinaryObject(ObjectInputStream.java:2213)\n\tat java.io.ObjectInputStream.readObject0(ObjectInputStream.java:1669)\n\tat java.io.ObjectInputStream.defaultReadFields(ObjectInputStream.java:2431)\n\tat java.io.ObjectInputStream.readSerialData(ObjectInputStream.java:2355)\n\tat java.io.ObjectInputStream.readOrdinaryObject(ObjectInputStream.java:2213)\n\tat java.io.ObjectInputStream.readObject0(ObjectInputStream.java:1669)\n\tat java.io.ObjectInputStream.readObject(ObjectInputStream.java:503)\n\tat java.io.ObjectInputStream.readObject(ObjectInputStream.java:461)\n\tat org.apache.spark.serializer.JavaDeserializationStream.readObject(JavaSerializer.scala:87)\n\tat org.apache.spark.serializer.JavaSerializerInstance.deserialize(JavaSerializer.scala:129)\n\tat org.apache.spark.scheduler.ResultTask.runTask(ResultTask.scala:83)\n\tat org.apache.spark.scheduler.Task.run(Task.scala:136)\n\tat org.apache.spark.executor.Executor$TaskRunner.$anonfun$run$3(Executor.scala:548)\n\tat org.apache.spark.util.Utils$.tryWithSafeFinally(Utils.scala:1504)\n\tat org.apache.spark.executor.Executor$TaskRunner.run(Executor.scala:551)\n\tat java.util.concurrent.ThreadPoolExecutor.runWorker(ThreadPoolExecutor.java:1149)\n\tat java.util.concurrent.ThreadPoolExecutor$Worker.run(ThreadPoolExecutor.java:624)\n\tat java.lang.Thread.run(Thread.java:750)\n\nDriver stacktrace:\n\tat org.apache.spark.scheduler.DAGScheduler.failJobAndIndependentStages(DAGScheduler.scala:2672)\n\tat org.apache.spark.scheduler.DAGScheduler.$anonfun$abortStage$2(DAGScheduler.scala:2608)\n\tat org.apache.spark.scheduler.DAGScheduler.$anonfun$abortStage$2$adapted(DAGScheduler.scala:2607)\n\tat scala.collection.mutable.ResizableArray.foreach(ResizableArray.scala:62)\n\tat scala.collection.mutable.ResizableArray.foreach$(ResizableArray.scala:55)\n\tat scala.collection.mutable.ArrayBuffer.foreach(ArrayBuffer.scala:49)\n\tat org.apache.spark.scheduler.DAGScheduler.abortStage(DAGScheduler.scala:2607)\n\tat org.apache.spark.scheduler.DAGScheduler.$anonfun$handleTaskSetFailed$1(DAGScheduler.scala:1182)\n\tat org.apache.spark.scheduler.DAGScheduler.$anonfun$handleTaskSetFailed$1$adapted(DAGScheduler.scala:1182)\n\tat scala.Option.foreach(Option.scala:407)\n\tat org.apache.spark.scheduler.DAGScheduler.handleTaskSetFailed(DAGScheduler.scala:1182)\n\tat org.apache.spark.scheduler.DAGSchedulerEventProcessLoop.doOnReceive(DAGScheduler.scala:2860)\n\tat org.apache.spark.scheduler.DAGSchedulerEventProcessLoop.onReceive(DAGScheduler.scala:2802)\n\tat org.apache.spark.scheduler.DAGSchedulerEventProcessLoop.onReceive(DAGScheduler.scala:2791)\n\tat org.apache.spark.util.EventLoop$$anon$1.run(EventLoop.scala:49)\n\tat org.apache.spark.scheduler.DAGScheduler.runJob(DAGScheduler.scala:952)\n\tat org.apache.spark.SparkContext.runJob(SparkContext.scala:2228)\n\tat org.apache.spark.SparkContext.runJob(SparkContext.scala:2249)\n\tat org.apache.spark.SparkContext.runJob(SparkContext.scala:2268)\n\tat org.apache.spark.sql.execution.SparkPlan.executeTake(SparkPlan.scala:506)\n\tat org.apache.spark.sql.execution.SparkPlan.executeTake(SparkPlan.scala:459)\n\tat org.apache.spark.sql.execution.CollectLimitExec.executeCollect(limit.scala:48)\n\tat org.apache.spark.sql.Dataset.collectFromPlan(Dataset.scala:3868)\n\tat org.apache.spark.sql.Dataset.$anonfun$head$1(Dataset.scala:2863)\n\tat org.apache.spark.sql.Dataset.$anonfun$withAction$2(Dataset.scala:3858)\n\tat org.apache.spark.sql.execution.QueryExecution$.withInternalError(QueryExecution.scala:510)\n\tat org.apache.spark.sql.Dataset.$anonfun$withAction$1(Dataset.scala:3856)\n\tat org.apache.spark.sql.execution.SQLExecution$.$anonfun$withNewExecutionId$6(SQLExecution.scala:109)\n\tat org.apache.spark.sql.execution.SQLExecution$.withSQLConfPropagated(SQLExecution.scala:169)\n\tat org.apache.spark.sql.execution.SQLExecution$.$anonfun$withNewExecutionId$1(SQLExecution.scala:95)\n\tat org.apache.spark.sql.SparkSession.withActive(SparkSession.scala:779)\n\tat org.apache.spark.sql.execution.SQLExecution$.withNewExecutionId(SQLExecution.scala:64)\n\tat org.apache.spark.sql.Dataset.withAction(Dataset.scala:3856)\n\tat org.apache.spark.sql.Dataset.head(Dataset.scala:2863)\n\tat org.apache.spark.sql.Dataset.take(Dataset.scala:3084)\n\tat org.apache.spark.sql.Dataset.getRows(Dataset.scala:288)\n\tat org.apache.spark.sql.Dataset.showString(Dataset.scala:327)\n\tat java.base/jdk.internal.reflect.NativeMethodAccessorImpl.invoke0(Native Method)\n\tat java.base/jdk.internal.reflect.NativeMethodAccessorImpl.invoke(NativeMethodAccessorImpl.java:77)\n\tat java.base/jdk.internal.reflect.DelegatingMethodAccessorImpl.invoke(DelegatingMethodAccessorImpl.java:43)\n\tat java.base/java.lang.reflect.Method.invoke(Method.java:568)\n\tat py4j.reflection.MethodInvoker.invoke(MethodInvoker.java:244)\n\tat py4j.reflection.ReflectionEngine.invoke(ReflectionEngine.java:357)\n\tat py4j.Gateway.invoke(Gateway.java:282)\n\tat py4j.commands.AbstractCommand.invokeMethod(AbstractCommand.java:132)\n\tat py4j.commands.CallCommand.execute(CallCommand.java:79)\n\tat py4j.ClientServerConnection.waitForCommands(ClientServerConnection.java:182)\n\tat py4j.ClientServerConnection.run(ClientServerConnection.java:106)\n\tat java.base/java.lang.Thread.run(Thread.java:833)\nCaused by: java.io.InvalidClassException: org.apache.spark.util.collection.BitSet; local class incompatible: stream classdesc serialVersionUID = 250628929810266153, local class serialVersionUID = 59660257146063567\n\tat java.io.ObjectStreamClass.initNonProxy(ObjectStreamClass.java:699)\n\tat java.io.ObjectInputStream.readNonProxyDesc(ObjectInputStream.java:2005)\n\tat java.io.ObjectInputStream.readClassDesc(ObjectInputStream.java:1852)\n\tat java.io.ObjectInputStream.readNonProxyDesc(ObjectInputStream.java:2005)\n\tat java.io.ObjectInputStream.readClassDesc(ObjectInputStream.java:1852)\n\tat java.io.ObjectInputStream.readOrdinaryObject(ObjectInputStream.java:2186)\n\tat java.io.ObjectInputStream.readObject0(ObjectInputStream.java:1669)\n\tat java.io.ObjectInputStream.defaultReadFields(ObjectInputStream.java:2431)\n\tat java.io.ObjectInputStream.readSerialData(ObjectInputStream.java:2355)\n\tat java.io.ObjectInputStream.readOrdinaryObject(ObjectInputStream.java:2213)\n\tat java.io.ObjectInputStream.readObject0(ObjectInputStream.java:1669)\n\tat java.io.ObjectInputStream.readArray(ObjectInputStream.java:2119)\n\tat java.io.ObjectInputStream.readObject0(ObjectInputStream.java:1657)\n\tat java.io.ObjectInputStream.defaultReadFields(ObjectInputStream.java:2431)\n\tat java.io.ObjectInputStream.readSerialData(ObjectInputStream.java:2355)\n\tat java.io.ObjectInputStream.readOrdinaryObject(ObjectInputStream.java:2213)\n\tat java.io.ObjectInputStream.readObject0(ObjectInputStream.java:1669)\n\tat java.io.ObjectInputStream.defaultReadFields(ObjectInputStream.java:2431)\n\tat java.io.ObjectInputStream.readSerialData(ObjectInputStream.java:2355)\n\tat java.io.ObjectInputStream.readOrdinaryObject(ObjectInputStream.java:2213)\n\tat java.io.ObjectInputStream.readObject0(ObjectInputStream.java:1669)\n\tat java.io.ObjectInputStream.defaultReadFields(ObjectInputStream.java:2431)\n\tat java.io.ObjectInputStream.readSerialData(ObjectInputStream.java:2355)\n\tat java.io.ObjectInputStream.readOrdinaryObject(ObjectInputStream.java:2213)\n\tat java.io.ObjectInputStream.readObject0(ObjectInputStream.java:1669)\n\tat java.io.ObjectInputStream.defaultReadFields(ObjectInputStream.java:2431)\n\tat java.io.ObjectInputStream.readSerialData(ObjectInputStream.java:2355)\n\tat java.io.ObjectInputStream.readOrdinaryObject(ObjectInputStream.java:2213)\n\tat java.io.ObjectInputStream.readObject0(ObjectInputStream.java:1669)\n\tat java.io.ObjectInputStream.readObject(ObjectInputStream.java:503)\n\tat java.io.ObjectInputStream.readObject(ObjectInputStream.java:461)\n\tat scala.collection.immutable.List$SerializationProxy.readObject(List.scala:527)\n\tat sun.reflect.GeneratedMethodAccessor7.invoke(Unknown Source)\n\tat sun.reflect.DelegatingMethodAccessorImpl.invoke(DelegatingMethodAccessorImpl.java:43)\n\tat java.lang.reflect.Method.invoke(Method.java:498)\n\tat java.io.ObjectStreamClass.invokeReadObject(ObjectStreamClass.java:1184)\n\tat java.io.ObjectInputStream.readSerialData(ObjectInputStream.java:2322)\n\tat java.io.ObjectInputStream.readOrdinaryObject(ObjectInputStream.java:2213)\n\tat java.io.ObjectInputStream.readObject0(ObjectInputStream.java:1669)\n\tat java.io.ObjectInputStream.defaultReadFields(ObjectInputStream.java:2431)\n\tat java.io.ObjectInputStream.readSerialData(ObjectInputStream.java:2355)\n\tat java.io.ObjectInputStream.readOrdinaryObject(ObjectInputStream.java:2213)\n\tat java.io.ObjectInputStream.readObject0(ObjectInputStream.java:1669)\n\tat java.io.ObjectInputStream.defaultReadFields(ObjectInputStream.java:2431)\n\tat java.io.ObjectInputStream.readSerialData(ObjectInputStream.java:2355)\n\tat java.io.ObjectInputStream.readOrdinaryObject(ObjectInputStream.java:2213)\n\tat java.io.ObjectInputStream.readObject0(ObjectInputStream.java:1669)\n\tat java.io.ObjectInputStream.defaultReadFields(ObjectInputStream.java:2431)\n\tat java.io.ObjectInputStream.readSerialData(ObjectInputStream.java:2355)\n\tat java.io.ObjectInputStream.readOrdinaryObject(ObjectInputStream.java:2213)\n\tat java.io.ObjectInputStream.readObject0(ObjectInputStream.java:1669)\n\tat java.io.ObjectInputStream.defaultReadFields(ObjectInputStream.java:2431)\n\tat java.io.ObjectInputStream.readSerialData(ObjectInputStream.java:2355)\n\tat java.io.ObjectInputStream.readOrdinaryObject(ObjectInputStream.java:2213)\n\tat java.io.ObjectInputStream.readObject0(ObjectInputStream.java:1669)\n\tat java.io.ObjectInputStream.defaultReadFields(ObjectInputStream.java:2431)\n\tat java.io.ObjectInputStream.readSerialData(ObjectInputStream.java:2355)\n\tat java.io.ObjectInputStream.readOrdinaryObject(ObjectInputStream.java:2213)\n\tat java.io.ObjectInputStream.readObject0(ObjectInputStream.java:1669)\n\tat java.io.ObjectInputStream.defaultReadFields(ObjectInputStream.java:2431)\n\tat java.io.ObjectInputStream.readSerialData(ObjectInputStream.java:2355)\n\tat java.io.ObjectInputStream.readOrdinaryObject(ObjectInputStream.java:2213)\n\tat java.io.ObjectInputStream.readObject0(ObjectInputStream.java:1669)\n\tat java.io.ObjectInputStream.readObject(ObjectInputStream.java:503)\n\tat java.io.ObjectInputStream.readObject(ObjectInputStream.java:461)\n\tat scala.collection.immutable.List$SerializationProxy.readObject(List.scala:527)\n\tat sun.reflect.GeneratedMethodAccessor7.invoke(Unknown Source)\n\tat sun.reflect.DelegatingMethodAccessorImpl.invoke(DelegatingMethodAccessorImpl.java:43)\n\tat java.lang.reflect.Method.invoke(Method.java:498)\n\tat java.io.ObjectStreamClass.invokeReadObject(ObjectStreamClass.java:1184)\n\tat java.io.ObjectInputStream.readSerialData(ObjectInputStream.java:2322)\n\tat java.io.ObjectInputStream.readOrdinaryObject(ObjectInputStream.java:2213)\n\tat java.io.ObjectInputStream.readObject0(ObjectInputStream.java:1669)\n\tat java.io.ObjectInputStream.defaultReadFields(ObjectInputStream.java:2431)\n\tat java.io.ObjectInputStream.readSerialData(ObjectInputStream.java:2355)\n\tat java.io.ObjectInputStream.readOrdinaryObject(ObjectInputStream.java:2213)\n\tat java.io.ObjectInputStream.readObject0(ObjectInputStream.java:1669)\n\tat java.io.ObjectInputStream.defaultReadFields(ObjectInputStream.java:2431)\n\tat java.io.ObjectInputStream.readSerialData(ObjectInputStream.java:2355)\n\tat java.io.ObjectInputStream.readOrdinaryObject(ObjectInputStream.java:2213)\n\tat java.io.ObjectInputStream.readObject0(ObjectInputStream.java:1669)\n\tat java.io.ObjectInputStream.readObject(ObjectInputStream.java:503)\n\tat java.io.ObjectInputStream.readObject(ObjectInputStream.java:461)\n\tat scala.collection.immutable.List$SerializationProxy.readObject(List.scala:527)\n\tat sun.reflect.GeneratedMethodAccessor7.invoke(Unknown Source)\n\tat sun.reflect.DelegatingMethodAccessorImpl.invoke(DelegatingMethodAccessorImpl.java:43)\n\tat java.lang.reflect.Method.invoke(Method.java:498)\n\tat java.io.ObjectStreamClass.invokeReadObject(ObjectStreamClass.java:1184)\n\tat java.io.ObjectInputStream.readSerialData(ObjectInputStream.java:2322)\n\tat java.io.ObjectInputStream.readOrdinaryObject(ObjectInputStream.java:2213)\n\tat java.io.ObjectInputStream.readObject0(ObjectInputStream.java:1669)\n\tat java.io.ObjectInputStream.defaultReadFields(ObjectInputStream.java:2431)\n\tat java.io.ObjectInputStream.readSerialData(ObjectInputStream.java:2355)\n\tat java.io.ObjectInputStream.readOrdinaryObject(ObjectInputStream.java:2213)\n\tat java.io.ObjectInputStream.readObject0(ObjectInputStream.java:1669)\n\tat java.io.ObjectInputStream.defaultReadFields(ObjectInputStream.java:2431)\n\tat java.io.ObjectInputStream.readSerialData(ObjectInputStream.java:2355)\n\tat java.io.ObjectInputStream.readOrdinaryObject(ObjectInputStream.java:2213)\n\tat java.io.ObjectInputStream.readObject0(ObjectInputStream.java:1669)\n\tat java.io.ObjectInputStream.readObject(ObjectInputStream.java:503)\n\tat java.io.ObjectInputStream.readObject(ObjectInputStream.java:461)\n\tat scala.collection.immutable.List$SerializationProxy.readObject(List.scala:527)\n\tat sun.reflect.GeneratedMethodAccessor7.invoke(Unknown Source)\n\tat sun.reflect.DelegatingMethodAccessorImpl.invoke(DelegatingMethodAccessorImpl.java:43)\n\tat java.lang.reflect.Method.invoke(Method.java:498)\n\tat java.io.ObjectStreamClass.invokeReadObject(ObjectStreamClass.java:1184)\n\tat java.io.ObjectInputStream.readSerialData(ObjectInputStream.java:2322)\n\tat java.io.ObjectInputStream.readOrdinaryObject(ObjectInputStream.java:2213)\n\tat java.io.ObjectInputStream.readObject0(ObjectInputStream.java:1669)\n\tat java.io.ObjectInputStream.defaultReadFields(ObjectInputStream.java:2431)\n\tat java.io.ObjectInputStream.readSerialData(ObjectInputStream.java:2355)\n\tat java.io.ObjectInputStream.readOrdinaryObject(ObjectInputStream.java:2213)\n\tat java.io.ObjectInputStream.readObject0(ObjectInputStream.java:1669)\n\tat java.io.ObjectInputStream.defaultReadFields(ObjectInputStream.java:2431)\n\tat java.io.ObjectInputStream.readSerialData(ObjectInputStream.java:2355)\n\tat java.io.ObjectInputStream.readOrdinaryObject(ObjectInputStream.java:2213)\n\tat java.io.ObjectInputStream.readObject0(ObjectInputStream.java:1669)\n\tat java.io.ObjectInputStream.readObject(ObjectInputStream.java:503)\n\tat java.io.ObjectInputStream.readObject(ObjectInputStream.java:461)\n\tat org.apache.spark.serializer.JavaDeserializationStream.readObject(JavaSerializer.scala:87)\n\tat org.apache.spark.serializer.JavaSerializerInstance.deserialize(JavaSerializer.scala:129)\n\tat org.apache.spark.scheduler.ResultTask.runTask(ResultTask.scala:83)\n\tat org.apache.spark.scheduler.Task.run(Task.scala:136)\n\tat org.apache.spark.executor.Executor$TaskRunner.$anonfun$run$3(Executor.scala:548)\n\tat org.apache.spark.util.Utils$.tryWithSafeFinally(Utils.scala:1504)\n\tat org.apache.spark.executor.Executor$TaskRunner.run(Executor.scala:551)\n\tat java.util.concurrent.ThreadPoolExecutor.runWorker(ThreadPoolExecutor.java:1149)\n\tat java.util.concurrent.ThreadPoolExecutor$Worker.run(ThreadPoolExecutor.java:624)\n\tat java.lang.Thread.run(Thread.java:750)\n",
     "output_type": "error",
     "traceback": [
      "\u001b[0;31m---------------------------------------------------------------------------\u001b[0m",
      "\u001b[0;31mPy4JJavaError\u001b[0m                             Traceback (most recent call last)",
      "Cell \u001b[0;32mIn [47], line 1\u001b[0m\n\u001b[0;32m----> 1\u001b[0m \u001b[43mdf\u001b[49m\u001b[38;5;241;43m.\u001b[39;49m\u001b[43mshow\u001b[49m\u001b[43m(\u001b[49m\u001b[43m)\u001b[49m\n",
      "File \u001b[0;32m/opt/conda/lib/python3.8/site-packages/pyspark/sql/dataframe.py:606\u001b[0m, in \u001b[0;36mDataFrame.show\u001b[0;34m(self, n, truncate, vertical)\u001b[0m\n\u001b[1;32m    603\u001b[0m     \u001b[38;5;28;01mraise\u001b[39;00m \u001b[38;5;167;01mTypeError\u001b[39;00m(\u001b[38;5;124m\"\u001b[39m\u001b[38;5;124mParameter \u001b[39m\u001b[38;5;124m'\u001b[39m\u001b[38;5;124mvertical\u001b[39m\u001b[38;5;124m'\u001b[39m\u001b[38;5;124m must be a bool\u001b[39m\u001b[38;5;124m\"\u001b[39m)\n\u001b[1;32m    605\u001b[0m \u001b[38;5;28;01mif\u001b[39;00m \u001b[38;5;28misinstance\u001b[39m(truncate, \u001b[38;5;28mbool\u001b[39m) \u001b[38;5;129;01mand\u001b[39;00m truncate:\n\u001b[0;32m--> 606\u001b[0m     \u001b[38;5;28mprint\u001b[39m(\u001b[38;5;28;43mself\u001b[39;49m\u001b[38;5;241;43m.\u001b[39;49m\u001b[43m_jdf\u001b[49m\u001b[38;5;241;43m.\u001b[39;49m\u001b[43mshowString\u001b[49m\u001b[43m(\u001b[49m\u001b[43mn\u001b[49m\u001b[43m,\u001b[49m\u001b[43m \u001b[49m\u001b[38;5;241;43m20\u001b[39;49m\u001b[43m,\u001b[49m\u001b[43m \u001b[49m\u001b[43mvertical\u001b[49m\u001b[43m)\u001b[49m)\n\u001b[1;32m    607\u001b[0m \u001b[38;5;28;01melse\u001b[39;00m:\n\u001b[1;32m    608\u001b[0m     \u001b[38;5;28;01mtry\u001b[39;00m:\n",
      "File \u001b[0;32m/opt/conda/lib/python3.8/site-packages/py4j/java_gateway.py:1321\u001b[0m, in \u001b[0;36mJavaMember.__call__\u001b[0;34m(self, *args)\u001b[0m\n\u001b[1;32m   1315\u001b[0m command \u001b[38;5;241m=\u001b[39m proto\u001b[38;5;241m.\u001b[39mCALL_COMMAND_NAME \u001b[38;5;241m+\u001b[39m\\\n\u001b[1;32m   1316\u001b[0m     \u001b[38;5;28mself\u001b[39m\u001b[38;5;241m.\u001b[39mcommand_header \u001b[38;5;241m+\u001b[39m\\\n\u001b[1;32m   1317\u001b[0m     args_command \u001b[38;5;241m+\u001b[39m\\\n\u001b[1;32m   1318\u001b[0m     proto\u001b[38;5;241m.\u001b[39mEND_COMMAND_PART\n\u001b[1;32m   1320\u001b[0m answer \u001b[38;5;241m=\u001b[39m \u001b[38;5;28mself\u001b[39m\u001b[38;5;241m.\u001b[39mgateway_client\u001b[38;5;241m.\u001b[39msend_command(command)\n\u001b[0;32m-> 1321\u001b[0m return_value \u001b[38;5;241m=\u001b[39m \u001b[43mget_return_value\u001b[49m\u001b[43m(\u001b[49m\n\u001b[1;32m   1322\u001b[0m \u001b[43m    \u001b[49m\u001b[43manswer\u001b[49m\u001b[43m,\u001b[49m\u001b[43m \u001b[49m\u001b[38;5;28;43mself\u001b[39;49m\u001b[38;5;241;43m.\u001b[39;49m\u001b[43mgateway_client\u001b[49m\u001b[43m,\u001b[49m\u001b[43m \u001b[49m\u001b[38;5;28;43mself\u001b[39;49m\u001b[38;5;241;43m.\u001b[39;49m\u001b[43mtarget_id\u001b[49m\u001b[43m,\u001b[49m\u001b[43m \u001b[49m\u001b[38;5;28;43mself\u001b[39;49m\u001b[38;5;241;43m.\u001b[39;49m\u001b[43mname\u001b[49m\u001b[43m)\u001b[49m\n\u001b[1;32m   1324\u001b[0m \u001b[38;5;28;01mfor\u001b[39;00m temp_arg \u001b[38;5;129;01min\u001b[39;00m temp_args:\n\u001b[1;32m   1325\u001b[0m     temp_arg\u001b[38;5;241m.\u001b[39m_detach()\n",
      "File \u001b[0;32m/opt/conda/lib/python3.8/site-packages/pyspark/sql/utils.py:190\u001b[0m, in \u001b[0;36mcapture_sql_exception.<locals>.deco\u001b[0;34m(*a, **kw)\u001b[0m\n\u001b[1;32m    188\u001b[0m \u001b[38;5;28;01mdef\u001b[39;00m \u001b[38;5;21mdeco\u001b[39m(\u001b[38;5;241m*\u001b[39ma: Any, \u001b[38;5;241m*\u001b[39m\u001b[38;5;241m*\u001b[39mkw: Any) \u001b[38;5;241m-\u001b[39m\u001b[38;5;241m>\u001b[39m Any:\n\u001b[1;32m    189\u001b[0m     \u001b[38;5;28;01mtry\u001b[39;00m:\n\u001b[0;32m--> 190\u001b[0m         \u001b[38;5;28;01mreturn\u001b[39;00m \u001b[43mf\u001b[49m\u001b[43m(\u001b[49m\u001b[38;5;241;43m*\u001b[39;49m\u001b[43ma\u001b[49m\u001b[43m,\u001b[49m\u001b[43m \u001b[49m\u001b[38;5;241;43m*\u001b[39;49m\u001b[38;5;241;43m*\u001b[39;49m\u001b[43mkw\u001b[49m\u001b[43m)\u001b[49m\n\u001b[1;32m    191\u001b[0m     \u001b[38;5;28;01mexcept\u001b[39;00m Py4JJavaError \u001b[38;5;28;01mas\u001b[39;00m e:\n\u001b[1;32m    192\u001b[0m         converted \u001b[38;5;241m=\u001b[39m convert_exception(e\u001b[38;5;241m.\u001b[39mjava_exception)\n",
      "File \u001b[0;32m/opt/conda/lib/python3.8/site-packages/py4j/protocol.py:326\u001b[0m, in \u001b[0;36mget_return_value\u001b[0;34m(answer, gateway_client, target_id, name)\u001b[0m\n\u001b[1;32m    324\u001b[0m value \u001b[38;5;241m=\u001b[39m OUTPUT_CONVERTER[\u001b[38;5;28mtype\u001b[39m](answer[\u001b[38;5;241m2\u001b[39m:], gateway_client)\n\u001b[1;32m    325\u001b[0m \u001b[38;5;28;01mif\u001b[39;00m answer[\u001b[38;5;241m1\u001b[39m] \u001b[38;5;241m==\u001b[39m REFERENCE_TYPE:\n\u001b[0;32m--> 326\u001b[0m     \u001b[38;5;28;01mraise\u001b[39;00m Py4JJavaError(\n\u001b[1;32m    327\u001b[0m         \u001b[38;5;124m\"\u001b[39m\u001b[38;5;124mAn error occurred while calling \u001b[39m\u001b[38;5;132;01m{0}\u001b[39;00m\u001b[38;5;132;01m{1}\u001b[39;00m\u001b[38;5;132;01m{2}\u001b[39;00m\u001b[38;5;124m.\u001b[39m\u001b[38;5;130;01m\\n\u001b[39;00m\u001b[38;5;124m\"\u001b[39m\u001b[38;5;241m.\u001b[39m\n\u001b[1;32m    328\u001b[0m         \u001b[38;5;28mformat\u001b[39m(target_id, \u001b[38;5;124m\"\u001b[39m\u001b[38;5;124m.\u001b[39m\u001b[38;5;124m\"\u001b[39m, name), value)\n\u001b[1;32m    329\u001b[0m \u001b[38;5;28;01melse\u001b[39;00m:\n\u001b[1;32m    330\u001b[0m     \u001b[38;5;28;01mraise\u001b[39;00m Py4JError(\n\u001b[1;32m    331\u001b[0m         \u001b[38;5;124m\"\u001b[39m\u001b[38;5;124mAn error occurred while calling \u001b[39m\u001b[38;5;132;01m{0}\u001b[39;00m\u001b[38;5;132;01m{1}\u001b[39;00m\u001b[38;5;132;01m{2}\u001b[39;00m\u001b[38;5;124m. Trace:\u001b[39m\u001b[38;5;130;01m\\n\u001b[39;00m\u001b[38;5;132;01m{3}\u001b[39;00m\u001b[38;5;130;01m\\n\u001b[39;00m\u001b[38;5;124m\"\u001b[39m\u001b[38;5;241m.\u001b[39m\n\u001b[1;32m    332\u001b[0m         \u001b[38;5;28mformat\u001b[39m(target_id, \u001b[38;5;124m\"\u001b[39m\u001b[38;5;124m.\u001b[39m\u001b[38;5;124m\"\u001b[39m, name, value))\n",
      "\u001b[0;31mPy4JJavaError\u001b[0m: An error occurred while calling o294.showString.\n: org.apache.spark.SparkException: Job aborted due to stage failure: Task 0 in stage 25.0 failed 4 times, most recent failure: Lost task 0.3 in stage 25.0 (TID 64) (192.168.32.2 executor 0): java.io.InvalidClassException: org.apache.spark.util.collection.BitSet; local class incompatible: stream classdesc serialVersionUID = 250628929810266153, local class serialVersionUID = 59660257146063567\n\tat java.io.ObjectStreamClass.initNonProxy(ObjectStreamClass.java:699)\n\tat java.io.ObjectInputStream.readNonProxyDesc(ObjectInputStream.java:2005)\n\tat java.io.ObjectInputStream.readClassDesc(ObjectInputStream.java:1852)\n\tat java.io.ObjectInputStream.readNonProxyDesc(ObjectInputStream.java:2005)\n\tat java.io.ObjectInputStream.readClassDesc(ObjectInputStream.java:1852)\n\tat java.io.ObjectInputStream.readOrdinaryObject(ObjectInputStream.java:2186)\n\tat java.io.ObjectInputStream.readObject0(ObjectInputStream.java:1669)\n\tat java.io.ObjectInputStream.defaultReadFields(ObjectInputStream.java:2431)\n\tat java.io.ObjectInputStream.readSerialData(ObjectInputStream.java:2355)\n\tat java.io.ObjectInputStream.readOrdinaryObject(ObjectInputStream.java:2213)\n\tat java.io.ObjectInputStream.readObject0(ObjectInputStream.java:1669)\n\tat java.io.ObjectInputStream.readArray(ObjectInputStream.java:2119)\n\tat java.io.ObjectInputStream.readObject0(ObjectInputStream.java:1657)\n\tat java.io.ObjectInputStream.defaultReadFields(ObjectInputStream.java:2431)\n\tat java.io.ObjectInputStream.readSerialData(ObjectInputStream.java:2355)\n\tat java.io.ObjectInputStream.readOrdinaryObject(ObjectInputStream.java:2213)\n\tat java.io.ObjectInputStream.readObject0(ObjectInputStream.java:1669)\n\tat java.io.ObjectInputStream.defaultReadFields(ObjectInputStream.java:2431)\n\tat java.io.ObjectInputStream.readSerialData(ObjectInputStream.java:2355)\n\tat java.io.ObjectInputStream.readOrdinaryObject(ObjectInputStream.java:2213)\n\tat java.io.ObjectInputStream.readObject0(ObjectInputStream.java:1669)\n\tat java.io.ObjectInputStream.defaultReadFields(ObjectInputStream.java:2431)\n\tat java.io.ObjectInputStream.readSerialData(ObjectInputStream.java:2355)\n\tat java.io.ObjectInputStream.readOrdinaryObject(ObjectInputStream.java:2213)\n\tat java.io.ObjectInputStream.readObject0(ObjectInputStream.java:1669)\n\tat java.io.ObjectInputStream.defaultReadFields(ObjectInputStream.java:2431)\n\tat java.io.ObjectInputStream.readSerialData(ObjectInputStream.java:2355)\n\tat java.io.ObjectInputStream.readOrdinaryObject(ObjectInputStream.java:2213)\n\tat java.io.ObjectInputStream.readObject0(ObjectInputStream.java:1669)\n\tat java.io.ObjectInputStream.readObject(ObjectInputStream.java:503)\n\tat java.io.ObjectInputStream.readObject(ObjectInputStream.java:461)\n\tat scala.collection.immutable.List$SerializationProxy.readObject(List.scala:527)\n\tat sun.reflect.GeneratedMethodAccessor7.invoke(Unknown Source)\n\tat sun.reflect.DelegatingMethodAccessorImpl.invoke(DelegatingMethodAccessorImpl.java:43)\n\tat java.lang.reflect.Method.invoke(Method.java:498)\n\tat java.io.ObjectStreamClass.invokeReadObject(ObjectStreamClass.java:1184)\n\tat java.io.ObjectInputStream.readSerialData(ObjectInputStream.java:2322)\n\tat java.io.ObjectInputStream.readOrdinaryObject(ObjectInputStream.java:2213)\n\tat java.io.ObjectInputStream.readObject0(ObjectInputStream.java:1669)\n\tat java.io.ObjectInputStream.defaultReadFields(ObjectInputStream.java:2431)\n\tat java.io.ObjectInputStream.readSerialData(ObjectInputStream.java:2355)\n\tat java.io.ObjectInputStream.readOrdinaryObject(ObjectInputStream.java:2213)\n\tat java.io.ObjectInputStream.readObject0(ObjectInputStream.java:1669)\n\tat java.io.ObjectInputStream.defaultReadFields(ObjectInputStream.java:2431)\n\tat java.io.ObjectInputStream.readSerialData(ObjectInputStream.java:2355)\n\tat java.io.ObjectInputStream.readOrdinaryObject(ObjectInputStream.java:2213)\n\tat java.io.ObjectInputStream.readObject0(ObjectInputStream.java:1669)\n\tat java.io.ObjectInputStream.defaultReadFields(ObjectInputStream.java:2431)\n\tat java.io.ObjectInputStream.readSerialData(ObjectInputStream.java:2355)\n\tat java.io.ObjectInputStream.readOrdinaryObject(ObjectInputStream.java:2213)\n\tat java.io.ObjectInputStream.readObject0(ObjectInputStream.java:1669)\n\tat java.io.ObjectInputStream.defaultReadFields(ObjectInputStream.java:2431)\n\tat java.io.ObjectInputStream.readSerialData(ObjectInputStream.java:2355)\n\tat java.io.ObjectInputStream.readOrdinaryObject(ObjectInputStream.java:2213)\n\tat java.io.ObjectInputStream.readObject0(ObjectInputStream.java:1669)\n\tat java.io.ObjectInputStream.defaultReadFields(ObjectInputStream.java:2431)\n\tat java.io.ObjectInputStream.readSerialData(ObjectInputStream.java:2355)\n\tat java.io.ObjectInputStream.readOrdinaryObject(ObjectInputStream.java:2213)\n\tat java.io.ObjectInputStream.readObject0(ObjectInputStream.java:1669)\n\tat java.io.ObjectInputStream.defaultReadFields(ObjectInputStream.java:2431)\n\tat java.io.ObjectInputStream.readSerialData(ObjectInputStream.java:2355)\n\tat java.io.ObjectInputStream.readOrdinaryObject(ObjectInputStream.java:2213)\n\tat java.io.ObjectInputStream.readObject0(ObjectInputStream.java:1669)\n\tat java.io.ObjectInputStream.readObject(ObjectInputStream.java:503)\n\tat java.io.ObjectInputStream.readObject(ObjectInputStream.java:461)\n\tat scala.collection.immutable.List$SerializationProxy.readObject(List.scala:527)\n\tat sun.reflect.GeneratedMethodAccessor7.invoke(Unknown Source)\n\tat sun.reflect.DelegatingMethodAccessorImpl.invoke(DelegatingMethodAccessorImpl.java:43)\n\tat java.lang.reflect.Method.invoke(Method.java:498)\n\tat java.io.ObjectStreamClass.invokeReadObject(ObjectStreamClass.java:1184)\n\tat java.io.ObjectInputStream.readSerialData(ObjectInputStream.java:2322)\n\tat java.io.ObjectInputStream.readOrdinaryObject(ObjectInputStream.java:2213)\n\tat java.io.ObjectInputStream.readObject0(ObjectInputStream.java:1669)\n\tat java.io.ObjectInputStream.defaultReadFields(ObjectInputStream.java:2431)\n\tat java.io.ObjectInputStream.readSerialData(ObjectInputStream.java:2355)\n\tat java.io.ObjectInputStream.readOrdinaryObject(ObjectInputStream.java:2213)\n\tat java.io.ObjectInputStream.readObject0(ObjectInputStream.java:1669)\n\tat java.io.ObjectInputStream.defaultReadFields(ObjectInputStream.java:2431)\n\tat java.io.ObjectInputStream.readSerialData(ObjectInputStream.java:2355)\n\tat java.io.ObjectInputStream.readOrdinaryObject(ObjectInputStream.java:2213)\n\tat java.io.ObjectInputStream.readObject0(ObjectInputStream.java:1669)\n\tat java.io.ObjectInputStream.readObject(ObjectInputStream.java:503)\n\tat java.io.ObjectInputStream.readObject(ObjectInputStream.java:461)\n\tat scala.collection.immutable.List$SerializationProxy.readObject(List.scala:527)\n\tat sun.reflect.GeneratedMethodAccessor7.invoke(Unknown Source)\n\tat sun.reflect.DelegatingMethodAccessorImpl.invoke(DelegatingMethodAccessorImpl.java:43)\n\tat java.lang.reflect.Method.invoke(Method.java:498)\n\tat java.io.ObjectStreamClass.invokeReadObject(ObjectStreamClass.java:1184)\n\tat java.io.ObjectInputStream.readSerialData(ObjectInputStream.java:2322)\n\tat java.io.ObjectInputStream.readOrdinaryObject(ObjectInputStream.java:2213)\n\tat java.io.ObjectInputStream.readObject0(ObjectInputStream.java:1669)\n\tat java.io.ObjectInputStream.defaultReadFields(ObjectInputStream.java:2431)\n\tat java.io.ObjectInputStream.readSerialData(ObjectInputStream.java:2355)\n\tat java.io.ObjectInputStream.readOrdinaryObject(ObjectInputStream.java:2213)\n\tat java.io.ObjectInputStream.readObject0(ObjectInputStream.java:1669)\n\tat java.io.ObjectInputStream.defaultReadFields(ObjectInputStream.java:2431)\n\tat java.io.ObjectInputStream.readSerialData(ObjectInputStream.java:2355)\n\tat java.io.ObjectInputStream.readOrdinaryObject(ObjectInputStream.java:2213)\n\tat java.io.ObjectInputStream.readObject0(ObjectInputStream.java:1669)\n\tat java.io.ObjectInputStream.readObject(ObjectInputStream.java:503)\n\tat java.io.ObjectInputStream.readObject(ObjectInputStream.java:461)\n\tat scala.collection.immutable.List$SerializationProxy.readObject(List.scala:527)\n\tat sun.reflect.GeneratedMethodAccessor7.invoke(Unknown Source)\n\tat sun.reflect.DelegatingMethodAccessorImpl.invoke(DelegatingMethodAccessorImpl.java:43)\n\tat java.lang.reflect.Method.invoke(Method.java:498)\n\tat java.io.ObjectStreamClass.invokeReadObject(ObjectStreamClass.java:1184)\n\tat java.io.ObjectInputStream.readSerialData(ObjectInputStream.java:2322)\n\tat java.io.ObjectInputStream.readOrdinaryObject(ObjectInputStream.java:2213)\n\tat java.io.ObjectInputStream.readObject0(ObjectInputStream.java:1669)\n\tat java.io.ObjectInputStream.defaultReadFields(ObjectInputStream.java:2431)\n\tat java.io.ObjectInputStream.readSerialData(ObjectInputStream.java:2355)\n\tat java.io.ObjectInputStream.readOrdinaryObject(ObjectInputStream.java:2213)\n\tat java.io.ObjectInputStream.readObject0(ObjectInputStream.java:1669)\n\tat java.io.ObjectInputStream.defaultReadFields(ObjectInputStream.java:2431)\n\tat java.io.ObjectInputStream.readSerialData(ObjectInputStream.java:2355)\n\tat java.io.ObjectInputStream.readOrdinaryObject(ObjectInputStream.java:2213)\n\tat java.io.ObjectInputStream.readObject0(ObjectInputStream.java:1669)\n\tat java.io.ObjectInputStream.readObject(ObjectInputStream.java:503)\n\tat java.io.ObjectInputStream.readObject(ObjectInputStream.java:461)\n\tat org.apache.spark.serializer.JavaDeserializationStream.readObject(JavaSerializer.scala:87)\n\tat org.apache.spark.serializer.JavaSerializerInstance.deserialize(JavaSerializer.scala:129)\n\tat org.apache.spark.scheduler.ResultTask.runTask(ResultTask.scala:83)\n\tat org.apache.spark.scheduler.Task.run(Task.scala:136)\n\tat org.apache.spark.executor.Executor$TaskRunner.$anonfun$run$3(Executor.scala:548)\n\tat org.apache.spark.util.Utils$.tryWithSafeFinally(Utils.scala:1504)\n\tat org.apache.spark.executor.Executor$TaskRunner.run(Executor.scala:551)\n\tat java.util.concurrent.ThreadPoolExecutor.runWorker(ThreadPoolExecutor.java:1149)\n\tat java.util.concurrent.ThreadPoolExecutor$Worker.run(ThreadPoolExecutor.java:624)\n\tat java.lang.Thread.run(Thread.java:750)\n\nDriver stacktrace:\n\tat org.apache.spark.scheduler.DAGScheduler.failJobAndIndependentStages(DAGScheduler.scala:2672)\n\tat org.apache.spark.scheduler.DAGScheduler.$anonfun$abortStage$2(DAGScheduler.scala:2608)\n\tat org.apache.spark.scheduler.DAGScheduler.$anonfun$abortStage$2$adapted(DAGScheduler.scala:2607)\n\tat scala.collection.mutable.ResizableArray.foreach(ResizableArray.scala:62)\n\tat scala.collection.mutable.ResizableArray.foreach$(ResizableArray.scala:55)\n\tat scala.collection.mutable.ArrayBuffer.foreach(ArrayBuffer.scala:49)\n\tat org.apache.spark.scheduler.DAGScheduler.abortStage(DAGScheduler.scala:2607)\n\tat org.apache.spark.scheduler.DAGScheduler.$anonfun$handleTaskSetFailed$1(DAGScheduler.scala:1182)\n\tat org.apache.spark.scheduler.DAGScheduler.$anonfun$handleTaskSetFailed$1$adapted(DAGScheduler.scala:1182)\n\tat scala.Option.foreach(Option.scala:407)\n\tat org.apache.spark.scheduler.DAGScheduler.handleTaskSetFailed(DAGScheduler.scala:1182)\n\tat org.apache.spark.scheduler.DAGSchedulerEventProcessLoop.doOnReceive(DAGScheduler.scala:2860)\n\tat org.apache.spark.scheduler.DAGSchedulerEventProcessLoop.onReceive(DAGScheduler.scala:2802)\n\tat org.apache.spark.scheduler.DAGSchedulerEventProcessLoop.onReceive(DAGScheduler.scala:2791)\n\tat org.apache.spark.util.EventLoop$$anon$1.run(EventLoop.scala:49)\n\tat org.apache.spark.scheduler.DAGScheduler.runJob(DAGScheduler.scala:952)\n\tat org.apache.spark.SparkContext.runJob(SparkContext.scala:2228)\n\tat org.apache.spark.SparkContext.runJob(SparkContext.scala:2249)\n\tat org.apache.spark.SparkContext.runJob(SparkContext.scala:2268)\n\tat org.apache.spark.sql.execution.SparkPlan.executeTake(SparkPlan.scala:506)\n\tat org.apache.spark.sql.execution.SparkPlan.executeTake(SparkPlan.scala:459)\n\tat org.apache.spark.sql.execution.CollectLimitExec.executeCollect(limit.scala:48)\n\tat org.apache.spark.sql.Dataset.collectFromPlan(Dataset.scala:3868)\n\tat org.apache.spark.sql.Dataset.$anonfun$head$1(Dataset.scala:2863)\n\tat org.apache.spark.sql.Dataset.$anonfun$withAction$2(Dataset.scala:3858)\n\tat org.apache.spark.sql.execution.QueryExecution$.withInternalError(QueryExecution.scala:510)\n\tat org.apache.spark.sql.Dataset.$anonfun$withAction$1(Dataset.scala:3856)\n\tat org.apache.spark.sql.execution.SQLExecution$.$anonfun$withNewExecutionId$6(SQLExecution.scala:109)\n\tat org.apache.spark.sql.execution.SQLExecution$.withSQLConfPropagated(SQLExecution.scala:169)\n\tat org.apache.spark.sql.execution.SQLExecution$.$anonfun$withNewExecutionId$1(SQLExecution.scala:95)\n\tat org.apache.spark.sql.SparkSession.withActive(SparkSession.scala:779)\n\tat org.apache.spark.sql.execution.SQLExecution$.withNewExecutionId(SQLExecution.scala:64)\n\tat org.apache.spark.sql.Dataset.withAction(Dataset.scala:3856)\n\tat org.apache.spark.sql.Dataset.head(Dataset.scala:2863)\n\tat org.apache.spark.sql.Dataset.take(Dataset.scala:3084)\n\tat org.apache.spark.sql.Dataset.getRows(Dataset.scala:288)\n\tat org.apache.spark.sql.Dataset.showString(Dataset.scala:327)\n\tat java.base/jdk.internal.reflect.NativeMethodAccessorImpl.invoke0(Native Method)\n\tat java.base/jdk.internal.reflect.NativeMethodAccessorImpl.invoke(NativeMethodAccessorImpl.java:77)\n\tat java.base/jdk.internal.reflect.DelegatingMethodAccessorImpl.invoke(DelegatingMethodAccessorImpl.java:43)\n\tat java.base/java.lang.reflect.Method.invoke(Method.java:568)\n\tat py4j.reflection.MethodInvoker.invoke(MethodInvoker.java:244)\n\tat py4j.reflection.ReflectionEngine.invoke(ReflectionEngine.java:357)\n\tat py4j.Gateway.invoke(Gateway.java:282)\n\tat py4j.commands.AbstractCommand.invokeMethod(AbstractCommand.java:132)\n\tat py4j.commands.CallCommand.execute(CallCommand.java:79)\n\tat py4j.ClientServerConnection.waitForCommands(ClientServerConnection.java:182)\n\tat py4j.ClientServerConnection.run(ClientServerConnection.java:106)\n\tat java.base/java.lang.Thread.run(Thread.java:833)\nCaused by: java.io.InvalidClassException: org.apache.spark.util.collection.BitSet; local class incompatible: stream classdesc serialVersionUID = 250628929810266153, local class serialVersionUID = 59660257146063567\n\tat java.io.ObjectStreamClass.initNonProxy(ObjectStreamClass.java:699)\n\tat java.io.ObjectInputStream.readNonProxyDesc(ObjectInputStream.java:2005)\n\tat java.io.ObjectInputStream.readClassDesc(ObjectInputStream.java:1852)\n\tat java.io.ObjectInputStream.readNonProxyDesc(ObjectInputStream.java:2005)\n\tat java.io.ObjectInputStream.readClassDesc(ObjectInputStream.java:1852)\n\tat java.io.ObjectInputStream.readOrdinaryObject(ObjectInputStream.java:2186)\n\tat java.io.ObjectInputStream.readObject0(ObjectInputStream.java:1669)\n\tat java.io.ObjectInputStream.defaultReadFields(ObjectInputStream.java:2431)\n\tat java.io.ObjectInputStream.readSerialData(ObjectInputStream.java:2355)\n\tat java.io.ObjectInputStream.readOrdinaryObject(ObjectInputStream.java:2213)\n\tat java.io.ObjectInputStream.readObject0(ObjectInputStream.java:1669)\n\tat java.io.ObjectInputStream.readArray(ObjectInputStream.java:2119)\n\tat java.io.ObjectInputStream.readObject0(ObjectInputStream.java:1657)\n\tat java.io.ObjectInputStream.defaultReadFields(ObjectInputStream.java:2431)\n\tat java.io.ObjectInputStream.readSerialData(ObjectInputStream.java:2355)\n\tat java.io.ObjectInputStream.readOrdinaryObject(ObjectInputStream.java:2213)\n\tat java.io.ObjectInputStream.readObject0(ObjectInputStream.java:1669)\n\tat java.io.ObjectInputStream.defaultReadFields(ObjectInputStream.java:2431)\n\tat java.io.ObjectInputStream.readSerialData(ObjectInputStream.java:2355)\n\tat java.io.ObjectInputStream.readOrdinaryObject(ObjectInputStream.java:2213)\n\tat java.io.ObjectInputStream.readObject0(ObjectInputStream.java:1669)\n\tat java.io.ObjectInputStream.defaultReadFields(ObjectInputStream.java:2431)\n\tat java.io.ObjectInputStream.readSerialData(ObjectInputStream.java:2355)\n\tat java.io.ObjectInputStream.readOrdinaryObject(ObjectInputStream.java:2213)\n\tat java.io.ObjectInputStream.readObject0(ObjectInputStream.java:1669)\n\tat java.io.ObjectInputStream.defaultReadFields(ObjectInputStream.java:2431)\n\tat java.io.ObjectInputStream.readSerialData(ObjectInputStream.java:2355)\n\tat java.io.ObjectInputStream.readOrdinaryObject(ObjectInputStream.java:2213)\n\tat java.io.ObjectInputStream.readObject0(ObjectInputStream.java:1669)\n\tat java.io.ObjectInputStream.readObject(ObjectInputStream.java:503)\n\tat java.io.ObjectInputStream.readObject(ObjectInputStream.java:461)\n\tat scala.collection.immutable.List$SerializationProxy.readObject(List.scala:527)\n\tat sun.reflect.GeneratedMethodAccessor7.invoke(Unknown Source)\n\tat sun.reflect.DelegatingMethodAccessorImpl.invoke(DelegatingMethodAccessorImpl.java:43)\n\tat java.lang.reflect.Method.invoke(Method.java:498)\n\tat java.io.ObjectStreamClass.invokeReadObject(ObjectStreamClass.java:1184)\n\tat java.io.ObjectInputStream.readSerialData(ObjectInputStream.java:2322)\n\tat java.io.ObjectInputStream.readOrdinaryObject(ObjectInputStream.java:2213)\n\tat java.io.ObjectInputStream.readObject0(ObjectInputStream.java:1669)\n\tat java.io.ObjectInputStream.defaultReadFields(ObjectInputStream.java:2431)\n\tat java.io.ObjectInputStream.readSerialData(ObjectInputStream.java:2355)\n\tat java.io.ObjectInputStream.readOrdinaryObject(ObjectInputStream.java:2213)\n\tat java.io.ObjectInputStream.readObject0(ObjectInputStream.java:1669)\n\tat java.io.ObjectInputStream.defaultReadFields(ObjectInputStream.java:2431)\n\tat java.io.ObjectInputStream.readSerialData(ObjectInputStream.java:2355)\n\tat java.io.ObjectInputStream.readOrdinaryObject(ObjectInputStream.java:2213)\n\tat java.io.ObjectInputStream.readObject0(ObjectInputStream.java:1669)\n\tat java.io.ObjectInputStream.defaultReadFields(ObjectInputStream.java:2431)\n\tat java.io.ObjectInputStream.readSerialData(ObjectInputStream.java:2355)\n\tat java.io.ObjectInputStream.readOrdinaryObject(ObjectInputStream.java:2213)\n\tat java.io.ObjectInputStream.readObject0(ObjectInputStream.java:1669)\n\tat java.io.ObjectInputStream.defaultReadFields(ObjectInputStream.java:2431)\n\tat java.io.ObjectInputStream.readSerialData(ObjectInputStream.java:2355)\n\tat java.io.ObjectInputStream.readOrdinaryObject(ObjectInputStream.java:2213)\n\tat java.io.ObjectInputStream.readObject0(ObjectInputStream.java:1669)\n\tat java.io.ObjectInputStream.defaultReadFields(ObjectInputStream.java:2431)\n\tat java.io.ObjectInputStream.readSerialData(ObjectInputStream.java:2355)\n\tat java.io.ObjectInputStream.readOrdinaryObject(ObjectInputStream.java:2213)\n\tat java.io.ObjectInputStream.readObject0(ObjectInputStream.java:1669)\n\tat java.io.ObjectInputStream.defaultReadFields(ObjectInputStream.java:2431)\n\tat java.io.ObjectInputStream.readSerialData(ObjectInputStream.java:2355)\n\tat java.io.ObjectInputStream.readOrdinaryObject(ObjectInputStream.java:2213)\n\tat java.io.ObjectInputStream.readObject0(ObjectInputStream.java:1669)\n\tat java.io.ObjectInputStream.readObject(ObjectInputStream.java:503)\n\tat java.io.ObjectInputStream.readObject(ObjectInputStream.java:461)\n\tat scala.collection.immutable.List$SerializationProxy.readObject(List.scala:527)\n\tat sun.reflect.GeneratedMethodAccessor7.invoke(Unknown Source)\n\tat sun.reflect.DelegatingMethodAccessorImpl.invoke(DelegatingMethodAccessorImpl.java:43)\n\tat java.lang.reflect.Method.invoke(Method.java:498)\n\tat java.io.ObjectStreamClass.invokeReadObject(ObjectStreamClass.java:1184)\n\tat java.io.ObjectInputStream.readSerialData(ObjectInputStream.java:2322)\n\tat java.io.ObjectInputStream.readOrdinaryObject(ObjectInputStream.java:2213)\n\tat java.io.ObjectInputStream.readObject0(ObjectInputStream.java:1669)\n\tat java.io.ObjectInputStream.defaultReadFields(ObjectInputStream.java:2431)\n\tat java.io.ObjectInputStream.readSerialData(ObjectInputStream.java:2355)\n\tat java.io.ObjectInputStream.readOrdinaryObject(ObjectInputStream.java:2213)\n\tat java.io.ObjectInputStream.readObject0(ObjectInputStream.java:1669)\n\tat java.io.ObjectInputStream.defaultReadFields(ObjectInputStream.java:2431)\n\tat java.io.ObjectInputStream.readSerialData(ObjectInputStream.java:2355)\n\tat java.io.ObjectInputStream.readOrdinaryObject(ObjectInputStream.java:2213)\n\tat java.io.ObjectInputStream.readObject0(ObjectInputStream.java:1669)\n\tat java.io.ObjectInputStream.readObject(ObjectInputStream.java:503)\n\tat java.io.ObjectInputStream.readObject(ObjectInputStream.java:461)\n\tat scala.collection.immutable.List$SerializationProxy.readObject(List.scala:527)\n\tat sun.reflect.GeneratedMethodAccessor7.invoke(Unknown Source)\n\tat sun.reflect.DelegatingMethodAccessorImpl.invoke(DelegatingMethodAccessorImpl.java:43)\n\tat java.lang.reflect.Method.invoke(Method.java:498)\n\tat java.io.ObjectStreamClass.invokeReadObject(ObjectStreamClass.java:1184)\n\tat java.io.ObjectInputStream.readSerialData(ObjectInputStream.java:2322)\n\tat java.io.ObjectInputStream.readOrdinaryObject(ObjectInputStream.java:2213)\n\tat java.io.ObjectInputStream.readObject0(ObjectInputStream.java:1669)\n\tat java.io.ObjectInputStream.defaultReadFields(ObjectInputStream.java:2431)\n\tat java.io.ObjectInputStream.readSerialData(ObjectInputStream.java:2355)\n\tat java.io.ObjectInputStream.readOrdinaryObject(ObjectInputStream.java:2213)\n\tat java.io.ObjectInputStream.readObject0(ObjectInputStream.java:1669)\n\tat java.io.ObjectInputStream.defaultReadFields(ObjectInputStream.java:2431)\n\tat java.io.ObjectInputStream.readSerialData(ObjectInputStream.java:2355)\n\tat java.io.ObjectInputStream.readOrdinaryObject(ObjectInputStream.java:2213)\n\tat java.io.ObjectInputStream.readObject0(ObjectInputStream.java:1669)\n\tat java.io.ObjectInputStream.readObject(ObjectInputStream.java:503)\n\tat java.io.ObjectInputStream.readObject(ObjectInputStream.java:461)\n\tat scala.collection.immutable.List$SerializationProxy.readObject(List.scala:527)\n\tat sun.reflect.GeneratedMethodAccessor7.invoke(Unknown Source)\n\tat sun.reflect.DelegatingMethodAccessorImpl.invoke(DelegatingMethodAccessorImpl.java:43)\n\tat java.lang.reflect.Method.invoke(Method.java:498)\n\tat java.io.ObjectStreamClass.invokeReadObject(ObjectStreamClass.java:1184)\n\tat java.io.ObjectInputStream.readSerialData(ObjectInputStream.java:2322)\n\tat java.io.ObjectInputStream.readOrdinaryObject(ObjectInputStream.java:2213)\n\tat java.io.ObjectInputStream.readObject0(ObjectInputStream.java:1669)\n\tat java.io.ObjectInputStream.defaultReadFields(ObjectInputStream.java:2431)\n\tat java.io.ObjectInputStream.readSerialData(ObjectInputStream.java:2355)\n\tat java.io.ObjectInputStream.readOrdinaryObject(ObjectInputStream.java:2213)\n\tat java.io.ObjectInputStream.readObject0(ObjectInputStream.java:1669)\n\tat java.io.ObjectInputStream.defaultReadFields(ObjectInputStream.java:2431)\n\tat java.io.ObjectInputStream.readSerialData(ObjectInputStream.java:2355)\n\tat java.io.ObjectInputStream.readOrdinaryObject(ObjectInputStream.java:2213)\n\tat java.io.ObjectInputStream.readObject0(ObjectInputStream.java:1669)\n\tat java.io.ObjectInputStream.readObject(ObjectInputStream.java:503)\n\tat java.io.ObjectInputStream.readObject(ObjectInputStream.java:461)\n\tat org.apache.spark.serializer.JavaDeserializationStream.readObject(JavaSerializer.scala:87)\n\tat org.apache.spark.serializer.JavaSerializerInstance.deserialize(JavaSerializer.scala:129)\n\tat org.apache.spark.scheduler.ResultTask.runTask(ResultTask.scala:83)\n\tat org.apache.spark.scheduler.Task.run(Task.scala:136)\n\tat org.apache.spark.executor.Executor$TaskRunner.$anonfun$run$3(Executor.scala:548)\n\tat org.apache.spark.util.Utils$.tryWithSafeFinally(Utils.scala:1504)\n\tat org.apache.spark.executor.Executor$TaskRunner.run(Executor.scala:551)\n\tat java.util.concurrent.ThreadPoolExecutor.runWorker(ThreadPoolExecutor.java:1149)\n\tat java.util.concurrent.ThreadPoolExecutor$Worker.run(ThreadPoolExecutor.java:624)\n\tat java.lang.Thread.run(Thread.java:750)\n"
     ]
    },
    {
     "name": "stderr",
     "output_type": "stream",
     "text": [
      "----------------------------------------\n",
      "Exception happened during processing of request from ('127.0.0.1', 33344)\n",
      "Traceback (most recent call last):\n",
      "  File \"/opt/conda/lib/python3.8/socketserver.py\", line 316, in _handle_request_noblock\n",
      "    self.process_request(request, client_address)\n",
      "  File \"/opt/conda/lib/python3.8/socketserver.py\", line 347, in process_request\n",
      "    self.finish_request(request, client_address)\n",
      "  File \"/opt/conda/lib/python3.8/socketserver.py\", line 360, in finish_request\n",
      "    self.RequestHandlerClass(request, client_address, self)\n",
      "  File \"/opt/conda/lib/python3.8/socketserver.py\", line 747, in __init__\n",
      "    self.handle()\n",
      "  File \"/opt/conda/lib/python3.8/site-packages/pyspark/accumulators.py\", line 281, in handle\n",
      "    poll(accum_updates)\n",
      "  File \"/opt/conda/lib/python3.8/site-packages/pyspark/accumulators.py\", line 253, in poll\n",
      "    if func():\n",
      "  File \"/opt/conda/lib/python3.8/site-packages/pyspark/accumulators.py\", line 257, in accum_updates\n",
      "    num_updates = read_int(self.rfile)\n",
      "  File \"/opt/conda/lib/python3.8/site-packages/pyspark/serializers.py\", line 595, in read_int\n",
      "    raise EOFError\n",
      "EOFError\n",
      "----------------------------------------\n"
     ]
    }
   ],
   "source": [
    "df.show()\n",
    "# dt = spark.read.format(\"mongodb\").load()\n",
    "# x = df.filter(df['age'] >= 10)\n",
    "# print(x.show(vertical=False))\n",
    "\n"
   ]
  },
  {
   "cell_type": "code",
   "execution_count": null,
   "metadata": {},
   "outputs": [],
   "source": [
    "spark.stop()"
   ]
  }
 ],
 "metadata": {
  "jupytext": {
   "formats": "ipynb,py:percent"
  },
  "jupytext_formats": "ipynb,py",
  "kernelspec": {
   "display_name": "Python 3 (ipykernel)",
   "language": "python",
   "name": "python3"
  },
  "language_info": {
   "codemirror_mode": {
    "name": "ipython",
    "version": 3
   },
   "file_extension": ".py",
   "mimetype": "text/x-python",
   "name": "python",
   "nbconvert_exporter": "python",
   "pygments_lexer": "ipython3",
   "version": "3.8.13"
  }
 },
 "nbformat": 4,
 "nbformat_minor": 2
}
