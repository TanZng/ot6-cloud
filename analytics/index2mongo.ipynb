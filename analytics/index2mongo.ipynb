{
 "cells": [
  {
   "cell_type": "code",
   "execution_count": 1,
   "metadata": {},
   "outputs": [],
   "source": [
    "import findspark\n",
    "findspark.init()\n",
    "\n",
    "from pyspark import SparkConf\n",
    "from pyspark.sql import SparkSession\n",
    "from pyspark.sql.functions import *\n",
    "from pyspark.sql.types import *\n",
    "\n",
    "import os\n",
    "os.environ[\"PYARROW_IGNORE_TIMEZONE\"] = \"1\""
   ]
  },
  {
   "cell_type": "code",
   "execution_count": 2,
   "metadata": {},
   "outputs": [
    {
     "data": {
      "text/html": [
       "\n",
       "            <div>\n",
       "                <p><b>SparkSession - in-memory</b></p>\n",
       "                \n",
       "        <div>\n",
       "            <p><b>SparkContext</b></p>\n",
       "\n",
       "            <p><a href=\"http://f0af5ac048f8:4040\">Spark UI</a></p>\n",
       "\n",
       "            <dl>\n",
       "              <dt>Version</dt>\n",
       "                <dd><code>v3.3.0</code></dd>\n",
       "              <dt>Master</dt>\n",
       "                <dd><code>spark://spark:7077</code></dd>\n",
       "              <dt>AppName</dt>\n",
       "                <dd><code>jupyter-notebook-index2mongo</code></dd>\n",
       "            </dl>\n",
       "        </div>\n",
       "        \n",
       "            </div>\n",
       "        "
      ],
      "text/plain": [
       "<pyspark.sql.session.SparkSession at 0x7f0016ad8040>"
      ]
     },
     "execution_count": 2,
     "metadata": {},
     "output_type": "execute_result"
    }
   ],
   "source": [
    "# Spark session & context\n",
    "spark = SparkSession.builder.master(\"spark://spark:7077\") \\\n",
    "        .appName(\"jupyter-notebook-index2mongo\") \\\n",
    "        .config(\"spark.driver.memory\", \"512m\") \\\n",
    "        .config(\"spark.mongodb.input.uri\", \"mongodb://mongodb:27017/test.myCollection\") \\\n",
    "        .config(\"spark.mongodb.output.uri\", \"mongodb://mongodb:27017/test.myCollection\") \\\n",
    "        .config('spark.jars.packages', 'org.mongodb.spark:mongo-spark-connector_2.12:3.0.2') \\\n",
    "        .getOrCreate()\n",
    "\n",
    "#         .config(\"spark.mongodb.write.connection.uri\", \"mongodb://mongodb:27017/test.myCollection\") \\\n",
    "#         .config(\"spark.mongodb.read.connection.uri\", \"mongodb://mongodb:27017/test.myCollection\") \\\n",
    "#         .config('spark.jars.packages', 'org.mongodb.spark:mongo-spark-connector:10.0.5') \\\n",
    "\n",
    "spark"
   ]
  },
  {
   "cell_type": "markdown",
   "metadata": {},
   "source": [
    "# Write data in MongoDB"
   ]
  },
  {
   "cell_type": "code",
   "execution_count": 3,
   "metadata": {},
   "outputs": [],
   "source": [
    "spark.conf.set(\"spark.sql.parquet.enableVectorizedReader\",\"false\")  "
   ]
  },
  {
   "cell_type": "code",
   "execution_count": 4,
   "metadata": {},
   "outputs": [
    {
     "data": {
      "text/plain": [
       "DataFrame[language: string, country: string, job_id: string, productCategoryAlt: double, productAltEAN: double, productPriceBase: float, productBrand: string, productCategory: string, productDate: string, crawlID: string, currentURL: string, productLinkDetail: string, productEAN: string, productID: string, productAltId: string, productImage: string, productIsAvailable: bigint, productIsBio: bigint, productIsFresh: bigint, productIsFreezer: bigint, productIsNew: bigint, promotion: bigint, isSponsored: double, productLotPriceBase: float, productLotPrice: float, productName: string, productNutriscore: double, other: string, productPackaging: string, typeCrawler: string, productPosition: bigint, productPricePrevious: float, productPrice: float, productPromotionText: string, productQuantityRating: bigint, productRating: string, enseigneID: string, enseigneName: string, productService: double, shopID: string, productStock: bigint, productUnit: string, productValueUnit: float, variant_master: double, variant_position: bigint, zip_code: string]"
      ]
     },
     "execution_count": 4,
     "metadata": {},
     "output_type": "execute_result"
    }
   ],
   "source": [
    "df = spark.read.option(\"overwriteSchema\", \"true\").parquet('/home/jovyan/work/data/**/*.parquet.zst')\n",
    "#df = spark.read.option(\"overwriteSchema\", \"true\").parquet('/home/jovyan/work/data/21_12_2022/2022-12-21.1.131762.parquet.zst')\n",
    "\n",
    "df"
   ]
  },
  {
   "cell_type": "code",
   "execution_count": 5,
   "metadata": {},
   "outputs": [],
   "source": [
    "from pyspark.sql.types import StringType\n",
    "\n",
    "d2 = df.withColumn(\"zip_code\",df[\"zip_code\"].cast(StringType()))"
   ]
  },
  {
   "cell_type": "code",
   "execution_count": 6,
   "metadata": {},
   "outputs": [
    {
     "name": "stdout",
     "output_type": "stream",
     "text": [
      "root\n",
      " |-- language: string (nullable = true)\n",
      " |-- country: string (nullable = true)\n",
      " |-- job_id: string (nullable = true)\n",
      " |-- productCategoryAlt: double (nullable = true)\n",
      " |-- productAltEAN: double (nullable = true)\n",
      " |-- productPriceBase: float (nullable = true)\n",
      " |-- productBrand: string (nullable = true)\n",
      " |-- productCategory: string (nullable = true)\n",
      " |-- productDate: string (nullable = true)\n",
      " |-- crawlID: string (nullable = true)\n",
      " |-- currentURL: string (nullable = true)\n",
      " |-- productLinkDetail: string (nullable = true)\n",
      " |-- productEAN: string (nullable = true)\n",
      " |-- productID: string (nullable = true)\n",
      " |-- productAltId: string (nullable = true)\n",
      " |-- productImage: string (nullable = true)\n",
      " |-- productIsAvailable: long (nullable = true)\n",
      " |-- productIsBio: long (nullable = true)\n",
      " |-- productIsFresh: long (nullable = true)\n",
      " |-- productIsFreezer: long (nullable = true)\n",
      " |-- productIsNew: long (nullable = true)\n",
      " |-- promotion: long (nullable = true)\n",
      " |-- isSponsored: double (nullable = true)\n",
      " |-- productLotPriceBase: float (nullable = true)\n",
      " |-- productLotPrice: float (nullable = true)\n",
      " |-- productName: string (nullable = true)\n",
      " |-- productNutriscore: double (nullable = true)\n",
      " |-- other: string (nullable = true)\n",
      " |-- productPackaging: string (nullable = true)\n",
      " |-- typeCrawler: string (nullable = true)\n",
      " |-- productPosition: long (nullable = true)\n",
      " |-- productPricePrevious: float (nullable = true)\n",
      " |-- productPrice: float (nullable = true)\n",
      " |-- productPromotionText: string (nullable = true)\n",
      " |-- productQuantityRating: long (nullable = true)\n",
      " |-- productRating: string (nullable = true)\n",
      " |-- enseigneID: string (nullable = true)\n",
      " |-- enseigneName: string (nullable = true)\n",
      " |-- productService: double (nullable = true)\n",
      " |-- shopID: string (nullable = true)\n",
      " |-- productStock: long (nullable = true)\n",
      " |-- productUnit: string (nullable = true)\n",
      " |-- productValueUnit: float (nullable = true)\n",
      " |-- variant_master: double (nullable = true)\n",
      " |-- variant_position: long (nullable = true)\n",
      " |-- zip_code: string (nullable = true)\n",
      "\n"
     ]
    }
   ],
   "source": [
    "d2.printSchema()"
   ]
  },
  {
   "cell_type": "code",
   "execution_count": 7,
   "metadata": {
    "lines_to_next_cell": 2
   },
   "outputs": [],
   "source": [
    "d2.write.format(\"mongo\").mode(\"overwrite\").option(\"overwriteSchema\", \"true\").save()"
   ]
  },
  {
   "cell_type": "code",
   "execution_count": 8,
   "metadata": {},
   "outputs": [
    {
     "name": "stdout",
     "output_type": "stream",
     "text": [
      "root\n",
      " |-- language: string (nullable = true)\n",
      " |-- country: string (nullable = true)\n",
      " |-- job_id: string (nullable = true)\n",
      " |-- productCategoryAlt: double (nullable = true)\n",
      " |-- productAltEAN: double (nullable = true)\n",
      " |-- productPriceBase: float (nullable = true)\n",
      " |-- productBrand: string (nullable = true)\n",
      " |-- productCategory: string (nullable = true)\n",
      " |-- productDate: string (nullable = true)\n",
      " |-- crawlID: string (nullable = true)\n",
      " |-- currentURL: string (nullable = true)\n",
      " |-- productLinkDetail: string (nullable = true)\n",
      " |-- productEAN: string (nullable = true)\n",
      " |-- productID: string (nullable = true)\n",
      " |-- productAltId: string (nullable = true)\n",
      " |-- productImage: string (nullable = true)\n",
      " |-- productIsAvailable: long (nullable = true)\n",
      " |-- productIsBio: long (nullable = true)\n",
      " |-- productIsFresh: long (nullable = true)\n",
      " |-- productIsFreezer: long (nullable = true)\n",
      " |-- productIsNew: long (nullable = true)\n",
      " |-- promotion: long (nullable = true)\n",
      " |-- isSponsored: double (nullable = true)\n",
      " |-- productLotPriceBase: float (nullable = true)\n",
      " |-- productLotPrice: float (nullable = true)\n",
      " |-- productName: string (nullable = true)\n",
      " |-- productNutriscore: double (nullable = true)\n",
      " |-- other: string (nullable = true)\n",
      " |-- productPackaging: string (nullable = true)\n",
      " |-- typeCrawler: string (nullable = true)\n",
      " |-- productPosition: long (nullable = true)\n",
      " |-- productPricePrevious: float (nullable = true)\n",
      " |-- productPrice: float (nullable = true)\n",
      " |-- productPromotionText: string (nullable = true)\n",
      " |-- productQuantityRating: long (nullable = true)\n",
      " |-- productRating: string (nullable = true)\n",
      " |-- enseigneID: string (nullable = true)\n",
      " |-- enseigneName: string (nullable = true)\n",
      " |-- productService: double (nullable = true)\n",
      " |-- shopID: string (nullable = true)\n",
      " |-- productStock: long (nullable = true)\n",
      " |-- productUnit: string (nullable = true)\n",
      " |-- productValueUnit: float (nullable = true)\n",
      " |-- variant_master: double (nullable = true)\n",
      " |-- variant_position: long (nullable = true)\n",
      " |-- zip_code: string (nullable = true)\n",
      "\n"
     ]
    }
   ],
   "source": [
    "d2.printSchema()"
   ]
  },
  {
   "cell_type": "markdown",
   "metadata": {},
   "source": [
    "# Read data in MongoDB"
   ]
  },
  {
   "cell_type": "code",
   "execution_count": 27,
   "metadata": {},
   "outputs": [
    {
     "name": "stdout",
     "output_type": "stream",
     "text": [
      "root\n",
      " |-- _id: struct (nullable = true)\n",
      " |    |-- oid: string (nullable = true)\n",
      " |-- country: string (nullable = true)\n",
      " |-- crawlID: string (nullable = true)\n",
      " |-- currentURL: string (nullable = true)\n",
      " |-- enseigneID: string (nullable = true)\n",
      " |-- enseigneName: string (nullable = true)\n",
      " |-- job_id: string (nullable = true)\n",
      " |-- language: string (nullable = true)\n",
      " |-- other: string (nullable = true)\n",
      " |-- productBrand: string (nullable = true)\n",
      " |-- productCategory: string (nullable = true)\n",
      " |-- productDate: string (nullable = true)\n",
      " |-- productEAN: string (nullable = true)\n",
      " |-- productID: string (nullable = true)\n",
      " |-- productImage: string (nullable = true)\n",
      " |-- productIsAvailable: long (nullable = true)\n",
      " |-- productIsBio: long (nullable = true)\n",
      " |-- productIsFreezer: long (nullable = true)\n",
      " |-- productIsFresh: long (nullable = true)\n",
      " |-- productIsNew: long (nullable = true)\n",
      " |-- productLinkDetail: string (nullable = true)\n",
      " |-- productName: string (nullable = true)\n",
      " |-- productPackaging: string (nullable = true)\n",
      " |-- productPosition: long (nullable = true)\n",
      " |-- productPrice: double (nullable = true)\n",
      " |-- productPricePrevious: double (nullable = true)\n",
      " |-- productPromotionText: string (nullable = true)\n",
      " |-- productQuantityRating: long (nullable = true)\n",
      " |-- productRating: string (nullable = true)\n",
      " |-- promotion: long (nullable = true)\n",
      " |-- shopID: string (nullable = true)\n",
      " |-- typeCrawler: string (nullable = true)\n",
      "\n"
     ]
    }
   ],
   "source": [
    "df = spark.read.format(\"mongo\").load()\n",
    "df.printSchema()"
   ]
  },
  {
   "cell_type": "code",
   "execution_count": 29,
   "metadata": {},
   "outputs": [
    {
     "name": "stdout",
     "output_type": "stream",
     "text": [
      "+--------------------+\n",
      "|         productName|\n",
      "+--------------------+\n",
      "|Chauffeuse 1 plac...|\n",
      "|Pull de noël \"Sno...|\n",
      "|Guirlande intérie...|\n",
      "|Scotch whisky Spe...|\n",
      "|Scotch whisky éco...|\n",
      "+--------------------+\n",
      "only showing top 5 rows\n",
      "\n"
     ]
    }
   ],
   "source": [
    "df.select(\"productName\").show(5)"
   ]
  }
 ],
 "metadata": {
  "jupytext": {
   "formats": "ipynb,py:percent"
  },
  "jupytext_formats": "ipynb,py",
  "kernelspec": {
   "display_name": "Python 3 (ipykernel)",
   "language": "python",
   "name": "python3"
  },
  "language_info": {
   "codemirror_mode": {
    "name": "ipython",
    "version": 3
   },
   "file_extension": ".py",
   "mimetype": "text/x-python",
   "name": "python",
   "nbconvert_exporter": "python",
   "pygments_lexer": "ipython3",
   "version": "3.8.13"
  }
 },
 "nbformat": 4,
 "nbformat_minor": 2
}
