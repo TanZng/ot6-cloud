{
 "cells": [
  {
   "cell_type": "code",
   "execution_count": 2,
   "id": "9ad63b1a",
   "metadata": {
    "lines_to_next_cell": 2
   },
   "outputs": [],
   "source": [
    "import pandas as pd\n",
    "import vaex\n",
    "import glob"
   ]
  },
  {
   "cell_type": "code",
   "execution_count": 3,
   "id": "270781e9",
   "metadata": {},
   "outputs": [
    {
     "data": {
      "text/plain": [
       "['/home/jovyan/work/data/17_12_2022/2022-12-17.1.13699.parquet.zst',\n",
       " '/home/jovyan/work/data/17_12_2022/2022-12-17.1.131768.parquet.zst',\n",
       " '/home/jovyan/work/data/17_12_2022/2022-12-17.1.131767.parquet.zst',\n",
       " '/home/jovyan/work/data/17_12_2022/2022-12-17.1.13390.parquet.zst',\n",
       " '/home/jovyan/work/data/17_12_2022/2022-12-17.1.280.parquet.zst']"
      ]
     },
     "execution_count": 3,
     "metadata": {},
     "output_type": "execute_result"
    }
   ],
   "source": [
    "# Load certain folders\n",
    "folders = [\"17_12_2022\"]\n",
    "\n",
    "files = []\n",
    "for fold in folders:\n",
    "    files += glob.glob(f'/home/jovyan/work/data/{fold}/*.parquet.zst')\n",
    "\n",
    "    # Show first 5 folders\n",
    "files[:5]"
   ]
  },
  {
   "cell_type": "markdown",
   "id": "46259da8",
   "metadata": {},
   "source": [
    "# Pandas"
   ]
  },
  {
   "cell_type": "code",
   "execution_count": 4,
   "id": "011bc756",
   "metadata": {
    "lines_to_next_cell": 2
   },
   "outputs": [],
   "source": [
    "pdf = pd.concat([pd.read_parquet(fp) for fp in files])"
   ]
  },
  {
   "cell_type": "code",
   "execution_count": 5,
   "id": "bfae5743",
   "metadata": {},
   "outputs": [
    {
     "data": {
      "text/plain": [
       "pandas.core.frame.DataFrame"
      ]
     },
     "execution_count": 5,
     "metadata": {},
     "output_type": "execute_result"
    }
   ],
   "source": [
    "type(pdf)"
   ]
  },
  {
   "cell_type": "code",
   "execution_count": 6,
   "id": "94ff0ef5",
   "metadata": {},
   "outputs": [
    {
     "data": {
      "text/html": [
       "<div>\n",
       "<style scoped>\n",
       "    .dataframe tbody tr th:only-of-type {\n",
       "        vertical-align: middle;\n",
       "    }\n",
       "\n",
       "    .dataframe tbody tr th {\n",
       "        vertical-align: top;\n",
       "    }\n",
       "\n",
       "    .dataframe thead th {\n",
       "        text-align: right;\n",
       "    }\n",
       "</style>\n",
       "<table border=\"1\" class=\"dataframe\">\n",
       "  <thead>\n",
       "    <tr style=\"text-align: right;\">\n",
       "      <th></th>\n",
       "      <th>language</th>\n",
       "      <th>country</th>\n",
       "      <th>job_id</th>\n",
       "      <th>productCategoryAlt</th>\n",
       "      <th>productAltEAN</th>\n",
       "      <th>productPriceBase</th>\n",
       "      <th>productBrand</th>\n",
       "      <th>productCategory</th>\n",
       "      <th>productDate</th>\n",
       "      <th>crawlID</th>\n",
       "      <th>...</th>\n",
       "      <th>enseigneID</th>\n",
       "      <th>enseigneName</th>\n",
       "      <th>productService</th>\n",
       "      <th>shopID</th>\n",
       "      <th>productStock</th>\n",
       "      <th>productUnit</th>\n",
       "      <th>productValueUnit</th>\n",
       "      <th>variant_master</th>\n",
       "      <th>variant_position</th>\n",
       "      <th>zip_code</th>\n",
       "    </tr>\n",
       "  </thead>\n",
       "  <tbody>\n",
       "    <tr>\n",
       "      <th>29539</th>\n",
       "      <td>FR</td>\n",
       "      <td>FR</td>\n",
       "      <td>379974/15/182595</td>\n",
       "      <td>NaN</td>\n",
       "      <td>NaN</td>\n",
       "      <td>15.07</td>\n",
       "      <td>SIMON</td>\n",
       "      <td>['Au coeur de Noël', 'Repas de fête', 'Apériti...</td>\n",
       "      <td>2022-12-17T23:28:16Z</td>\n",
       "      <td>80d320ef-9119-4bb2-a5f8-a765572b6e71</td>\n",
       "      <td>...</td>\n",
       "      <td>1</td>\n",
       "      <td>Auchan Drive</td>\n",
       "      <td>NaN</td>\n",
       "      <td>131770</td>\n",
       "      <td>&lt;NA&gt;</td>\n",
       "      <td>kg</td>\n",
       "      <td>1.0</td>\n",
       "      <td>NaN</td>\n",
       "      <td>&lt;NA&gt;</td>\n",
       "      <td>69400</td>\n",
       "    </tr>\n",
       "    <tr>\n",
       "      <th>29540</th>\n",
       "      <td>FR</td>\n",
       "      <td>FR</td>\n",
       "      <td>379974/15/182595</td>\n",
       "      <td>NaN</td>\n",
       "      <td>NaN</td>\n",
       "      <td>21.299999</td>\n",
       "      <td>APERIVRAIS</td>\n",
       "      <td>['Au coeur de Noël', 'Repas de fête', 'Apériti...</td>\n",
       "      <td>2022-12-17T23:28:16Z</td>\n",
       "      <td>80d320ef-9119-4bb2-a5f8-a765572b6e71</td>\n",
       "      <td>...</td>\n",
       "      <td>1</td>\n",
       "      <td>Auchan Drive</td>\n",
       "      <td>NaN</td>\n",
       "      <td>131770</td>\n",
       "      <td>&lt;NA&gt;</td>\n",
       "      <td>kg</td>\n",
       "      <td>1.0</td>\n",
       "      <td>NaN</td>\n",
       "      <td>&lt;NA&gt;</td>\n",
       "      <td>69400</td>\n",
       "    </tr>\n",
       "    <tr>\n",
       "      <th>29541</th>\n",
       "      <td>FR</td>\n",
       "      <td>FR</td>\n",
       "      <td>379974/15/182595</td>\n",
       "      <td>NaN</td>\n",
       "      <td>NaN</td>\n",
       "      <td>21.299999</td>\n",
       "      <td>APERIVRAIS</td>\n",
       "      <td>['Au coeur de Noël', 'Repas de fête', 'Apériti...</td>\n",
       "      <td>2022-12-17T23:28:16Z</td>\n",
       "      <td>80d320ef-9119-4bb2-a5f8-a765572b6e71</td>\n",
       "      <td>...</td>\n",
       "      <td>1</td>\n",
       "      <td>Auchan Drive</td>\n",
       "      <td>NaN</td>\n",
       "      <td>131770</td>\n",
       "      <td>&lt;NA&gt;</td>\n",
       "      <td>kg</td>\n",
       "      <td>1.0</td>\n",
       "      <td>NaN</td>\n",
       "      <td>&lt;NA&gt;</td>\n",
       "      <td>69400</td>\n",
       "    </tr>\n",
       "    <tr>\n",
       "      <th>29542</th>\n",
       "      <td>FR</td>\n",
       "      <td>FR</td>\n",
       "      <td>379974/15/182595</td>\n",
       "      <td>NaN</td>\n",
       "      <td>NaN</td>\n",
       "      <td>26.639999</td>\n",
       "      <td>MIX BUFFET</td>\n",
       "      <td>['Au coeur de Noël', 'Repas de fête', 'Apériti...</td>\n",
       "      <td>2022-12-17T23:28:17Z</td>\n",
       "      <td>80d320ef-9119-4bb2-a5f8-a765572b6e71</td>\n",
       "      <td>...</td>\n",
       "      <td>1</td>\n",
       "      <td>Auchan Drive</td>\n",
       "      <td>NaN</td>\n",
       "      <td>131770</td>\n",
       "      <td>&lt;NA&gt;</td>\n",
       "      <td>kg</td>\n",
       "      <td>1.0</td>\n",
       "      <td>NaN</td>\n",
       "      <td>&lt;NA&gt;</td>\n",
       "      <td>69400</td>\n",
       "    </tr>\n",
       "    <tr>\n",
       "      <th>29543</th>\n",
       "      <td>FR</td>\n",
       "      <td>FR</td>\n",
       "      <td>379974/15/182595</td>\n",
       "      <td>NaN</td>\n",
       "      <td>NaN</td>\n",
       "      <td>37.450001</td>\n",
       "      <td>MAISON SAPRESTI</td>\n",
       "      <td>['Au coeur de Noël', 'Repas de fête', 'Apériti...</td>\n",
       "      <td>2022-12-17T23:28:18Z</td>\n",
       "      <td>80d320ef-9119-4bb2-a5f8-a765572b6e71</td>\n",
       "      <td>...</td>\n",
       "      <td>1</td>\n",
       "      <td>Auchan Drive</td>\n",
       "      <td>NaN</td>\n",
       "      <td>131770</td>\n",
       "      <td>&lt;NA&gt;</td>\n",
       "      <td>kg</td>\n",
       "      <td>1.0</td>\n",
       "      <td>NaN</td>\n",
       "      <td>&lt;NA&gt;</td>\n",
       "      <td>69400</td>\n",
       "    </tr>\n",
       "  </tbody>\n",
       "</table>\n",
       "<p>5 rows × 46 columns</p>\n",
       "</div>"
      ],
      "text/plain": [
       "      language country            job_id  productCategoryAlt  productAltEAN  \\\n",
       "29539       FR      FR  379974/15/182595                 NaN            NaN   \n",
       "29540       FR      FR  379974/15/182595                 NaN            NaN   \n",
       "29541       FR      FR  379974/15/182595                 NaN            NaN   \n",
       "29542       FR      FR  379974/15/182595                 NaN            NaN   \n",
       "29543       FR      FR  379974/15/182595                 NaN            NaN   \n",
       "\n",
       "       productPriceBase     productBrand  \\\n",
       "29539             15.07            SIMON   \n",
       "29540         21.299999       APERIVRAIS   \n",
       "29541         21.299999       APERIVRAIS   \n",
       "29542         26.639999       MIX BUFFET   \n",
       "29543         37.450001  MAISON SAPRESTI   \n",
       "\n",
       "                                         productCategory  \\\n",
       "29539  ['Au coeur de Noël', 'Repas de fête', 'Apériti...   \n",
       "29540  ['Au coeur de Noël', 'Repas de fête', 'Apériti...   \n",
       "29541  ['Au coeur de Noël', 'Repas de fête', 'Apériti...   \n",
       "29542  ['Au coeur de Noël', 'Repas de fête', 'Apériti...   \n",
       "29543  ['Au coeur de Noël', 'Repas de fête', 'Apériti...   \n",
       "\n",
       "                productDate                               crawlID  ...  \\\n",
       "29539  2022-12-17T23:28:16Z  80d320ef-9119-4bb2-a5f8-a765572b6e71  ...   \n",
       "29540  2022-12-17T23:28:16Z  80d320ef-9119-4bb2-a5f8-a765572b6e71  ...   \n",
       "29541  2022-12-17T23:28:16Z  80d320ef-9119-4bb2-a5f8-a765572b6e71  ...   \n",
       "29542  2022-12-17T23:28:17Z  80d320ef-9119-4bb2-a5f8-a765572b6e71  ...   \n",
       "29543  2022-12-17T23:28:18Z  80d320ef-9119-4bb2-a5f8-a765572b6e71  ...   \n",
       "\n",
       "      enseigneID  enseigneName productService  shopID productStock  \\\n",
       "29539          1  Auchan Drive            NaN  131770         <NA>   \n",
       "29540          1  Auchan Drive            NaN  131770         <NA>   \n",
       "29541          1  Auchan Drive            NaN  131770         <NA>   \n",
       "29542          1  Auchan Drive            NaN  131770         <NA>   \n",
       "29543          1  Auchan Drive            NaN  131770         <NA>   \n",
       "\n",
       "      productUnit  productValueUnit  variant_master  variant_position  \\\n",
       "29539          kg               1.0             NaN              <NA>   \n",
       "29540          kg               1.0             NaN              <NA>   \n",
       "29541          kg               1.0             NaN              <NA>   \n",
       "29542          kg               1.0             NaN              <NA>   \n",
       "29543          kg               1.0             NaN              <NA>   \n",
       "\n",
       "       zip_code  \n",
       "29539     69400  \n",
       "29540     69400  \n",
       "29541     69400  \n",
       "29542     69400  \n",
       "29543     69400  \n",
       "\n",
       "[5 rows x 46 columns]"
      ]
     },
     "execution_count": 6,
     "metadata": {},
     "output_type": "execute_result"
    }
   ],
   "source": [
    "pdf.tail(5)"
   ]
  },
  {
   "cell_type": "markdown",
   "id": "53433b65",
   "metadata": {},
   "source": [
    "# Vaex"
   ]
  },
  {
   "cell_type": "code",
   "execution_count": 7,
   "id": "391dba01",
   "metadata": {},
   "outputs": [],
   "source": [
    "vdf = vaex.from_pandas(pdf)"
   ]
  },
  {
   "cell_type": "code",
   "execution_count": 8,
   "id": "9eaf5c9d",
   "metadata": {},
   "outputs": [
    {
     "data": {
      "text/plain": [
       "vaex.dataframe.DataFrameLocal"
      ]
     },
     "execution_count": 8,
     "metadata": {},
     "output_type": "execute_result"
    }
   ],
   "source": [
    "type(vdf)"
   ]
  },
  {
   "cell_type": "code",
   "execution_count": 9,
   "id": "8c7200e3",
   "metadata": {},
   "outputs": [
    {
     "data": {
      "text/html": [
       "<table>\n",
       "<thead>\n",
       "<tr><th>#                            </th><th>language  </th><th>country  </th><th>job_id          </th><th style=\"text-align: right;\">  productCategoryAlt</th><th style=\"text-align: right;\">  productAltEAN</th><th style=\"text-align: right;\">  productPriceBase</th><th>productBrand   </th><th>productCategory                                    </th><th>productDate         </th><th>crawlID                             </th><th>currentURL                                         </th><th>productLinkDetail                                  </th><th>productEAN   </th><th style=\"text-align: right;\">  productID</th><th>productAltId  </th><th>productImage                                       </th><th style=\"text-align: right;\">  productIsAvailable</th><th style=\"text-align: right;\">  productIsBio</th><th style=\"text-align: right;\">  productIsFresh</th><th style=\"text-align: right;\">  productIsFreezer</th><th style=\"text-align: right;\">  productIsNew</th><th style=\"text-align: right;\">  promotion</th><th style=\"text-align: right;\">  isSponsored</th><th>productLotPriceBase  </th><th>productLotPrice  </th><th>productName                                        </th><th style=\"text-align: right;\">  productNutriscore</th><th>other                       </th><th>productPackaging  </th><th>typeCrawler  </th><th style=\"text-align: right;\">  productPosition</th><th>productPricePrevious  </th><th style=\"text-align: right;\">  productPrice</th><th>productPromotionText  </th><th>productQuantityRating  </th><th>productRating  </th><th style=\"text-align: right;\">  enseigneID</th><th>enseigneName  </th><th style=\"text-align: right;\">  productService</th><th style=\"text-align: right;\">  shopID</th><th>productStock  </th><th>productUnit  </th><th style=\"text-align: right;\">  productValueUnit</th><th style=\"text-align: right;\">  variant_master</th><th>variant_position  </th><th style=\"text-align: right;\">  zip_code</th></tr>\n",
       "</thead>\n",
       "<tbody>\n",
       "<tr><td><i style='opacity: 0.6'>0</i></td><td>FR        </td><td>FR       </td><td>379974/15/182595</td><td style=\"text-align: right;\">                 nan</td><td style=\"text-align: right;\">            nan</td><td style=\"text-align: right;\">             15.07</td><td>SIMON          </td><td>&quot;[&#x27;Au coeur de Noël&#x27;, &#x27;Repas de fête&#x27;, &#x27;Apéritif...</td><td>2022-12-17T23:28:16Z</td><td>80d320ef-9119-4bb2-a5f8-a765572b6e71</td><td>&#x27;https://www.auchan.fr/au-coeur-de-noel/repas-de...</td><td>&#x27;https://www.auchan.fr/simon-salade-de-surimi-et...</td><td>--           </td><td style=\"text-align: right;\">     654455</td><td>--            </td><td>&#x27;https://media.auchan.fr/A0219981110000654455PRI...</td><td style=\"text-align: right;\">                   0</td><td style=\"text-align: right;\">             0</td><td style=\"text-align: right;\">               0</td><td style=\"text-align: right;\">                 0</td><td style=\"text-align: right;\">             0</td><td style=\"text-align: right;\">          0</td><td style=\"text-align: right;\">          nan</td><td>--                   </td><td>--               </td><td>Salade de surimi et crabe                          </td><td style=\"text-align: right;\">                nan</td><td>{&quot;is_heard_on_radio&quot;: false}</td><td>150g              </td><td>WEB          </td><td style=\"text-align: right;\">              196</td><td>--                    </td><td style=\"text-align: right;\">          2.26</td><td>--                    </td><td>5                      </td><td>5.0/5          </td><td style=\"text-align: right;\">           1</td><td>Auchan Drive  </td><td style=\"text-align: right;\">             nan</td><td style=\"text-align: right;\">  131770</td><td>--            </td><td>kg           </td><td style=\"text-align: right;\">                 1</td><td style=\"text-align: right;\">             nan</td><td>--                </td><td style=\"text-align: right;\">     69400</td></tr>\n",
       "<tr><td><i style='opacity: 0.6'>1</i></td><td>FR        </td><td>FR       </td><td>379974/15/182595</td><td style=\"text-align: right;\">                 nan</td><td style=\"text-align: right;\">            nan</td><td style=\"text-align: right;\">             21.3 </td><td>APERIVRAIS     </td><td>&quot;[&#x27;Au coeur de Noël&#x27;, &#x27;Repas de fête&#x27;, &#x27;Apéritif...</td><td>2022-12-17T23:28:16Z</td><td>80d320ef-9119-4bb2-a5f8-a765572b6e71</td><td>&#x27;https://www.auchan.fr/au-coeur-de-noel/repas-de...</td><td>&#x27;https://www.auchan.fr/aperivrais-bouchees-de-fr...</td><td>--           </td><td style=\"text-align: right;\">     302905</td><td>--            </td><td>&#x27;https://media.auchan.fr/A0219980204000302905PRI...</td><td style=\"text-align: right;\">                   0</td><td style=\"text-align: right;\">             0</td><td style=\"text-align: right;\">               0</td><td style=\"text-align: right;\">                 0</td><td style=\"text-align: right;\">             0</td><td style=\"text-align: right;\">          0</td><td style=\"text-align: right;\">          nan</td><td>--                   </td><td>--               </td><td>Bouchées de fromage frais aux saveurs d&#x27;Italie     </td><td style=\"text-align: right;\">                nan</td><td>{&quot;is_heard_on_radio&quot;: false}</td><td>100g              </td><td>WEB          </td><td style=\"text-align: right;\">              197</td><td>--                    </td><td style=\"text-align: right;\">          2.13</td><td>--                    </td><td>15                     </td><td>4.7/5          </td><td style=\"text-align: right;\">           1</td><td>Auchan Drive  </td><td style=\"text-align: right;\">             nan</td><td style=\"text-align: right;\">  131770</td><td>--            </td><td>kg           </td><td style=\"text-align: right;\">                 1</td><td style=\"text-align: right;\">             nan</td><td>--                </td><td style=\"text-align: right;\">     69400</td></tr>\n",
       "<tr><td><i style='opacity: 0.6'>2</i></td><td>FR        </td><td>FR       </td><td>379974/15/182595</td><td style=\"text-align: right;\">                 nan</td><td style=\"text-align: right;\">            nan</td><td style=\"text-align: right;\">             21.3 </td><td>APERIVRAIS     </td><td>&quot;[&#x27;Au coeur de Noël&#x27;, &#x27;Repas de fête&#x27;, &#x27;Apéritif...</td><td>2022-12-17T23:28:16Z</td><td>80d320ef-9119-4bb2-a5f8-a765572b6e71</td><td>&#x27;https://www.auchan.fr/au-coeur-de-noel/repas-de...</td><td>&#x27;https://www.auchan.fr/aperivrais-bouchees-de-fr...</td><td>--           </td><td style=\"text-align: right;\">     869762</td><td>--            </td><td>&#x27;https://media.auchan.fr/MEDIASTEP163562236_460x...</td><td style=\"text-align: right;\">                   0</td><td style=\"text-align: right;\">             0</td><td style=\"text-align: right;\">               0</td><td style=\"text-align: right;\">                 0</td><td style=\"text-align: right;\">             0</td><td style=\"text-align: right;\">          0</td><td style=\"text-align: right;\">          nan</td><td>--                   </td><td>--               </td><td>Bouchées de fromage frais à l&#x27;ail et fines herbes  </td><td style=\"text-align: right;\">                nan</td><td>{&quot;is_heard_on_radio&quot;: false}</td><td>100g              </td><td>WEB          </td><td style=\"text-align: right;\">              198</td><td>--                    </td><td style=\"text-align: right;\">          2.13</td><td>--                    </td><td>9                      </td><td>4.4/5          </td><td style=\"text-align: right;\">           1</td><td>Auchan Drive  </td><td style=\"text-align: right;\">             nan</td><td style=\"text-align: right;\">  131770</td><td>--            </td><td>kg           </td><td style=\"text-align: right;\">                 1</td><td style=\"text-align: right;\">             nan</td><td>--                </td><td style=\"text-align: right;\">     69400</td></tr>\n",
       "<tr><td><i style='opacity: 0.6'>3</i></td><td>FR        </td><td>FR       </td><td>379974/15/182595</td><td style=\"text-align: right;\">                 nan</td><td style=\"text-align: right;\">            nan</td><td style=\"text-align: right;\">             26.64</td><td>MIX BUFFET     </td><td>&quot;[&#x27;Au coeur de Noël&#x27;, &#x27;Repas de fête&#x27;, &#x27;Apéritif...</td><td>2022-12-17T23:28:17Z</td><td>80d320ef-9119-4bb2-a5f8-a765572b6e71</td><td>&#x27;https://www.auchan.fr/au-coeur-de-noel/repas-de...</td><td>&#x27;https://www.auchan.fr/mix-buffet-mini-prefou-sa...</td><td>3700009270394</td><td style=\"text-align: right;\">      29181</td><td>--            </td><td>&#x27;https://media.auchan.fr/MEDIASTEP104548313_460x...</td><td style=\"text-align: right;\">                   0</td><td style=\"text-align: right;\">             0</td><td style=\"text-align: right;\">               0</td><td style=\"text-align: right;\">                 0</td><td style=\"text-align: right;\">             0</td><td style=\"text-align: right;\">          0</td><td style=\"text-align: right;\">          nan</td><td>--                   </td><td>--               </td><td>&#x27;Mini préfou saumon aneth ail persil noix St Jac...</td><td style=\"text-align: right;\">                nan</td><td>{&quot;is_heard_on_radio&quot;: false}</td><td>3 pièces 375g     </td><td>WEB          </td><td style=\"text-align: right;\">              200</td><td>--                    </td><td style=\"text-align: right;\">          9.99</td><td>--                    </td><td>--                     </td><td>--             </td><td style=\"text-align: right;\">           1</td><td>Auchan Drive  </td><td style=\"text-align: right;\">             nan</td><td style=\"text-align: right;\">  131770</td><td>--            </td><td>kg           </td><td style=\"text-align: right;\">                 1</td><td style=\"text-align: right;\">             nan</td><td>--                </td><td style=\"text-align: right;\">     69400</td></tr>\n",
       "<tr><td><i style='opacity: 0.6'>4</i></td><td>FR        </td><td>FR       </td><td>379974/15/182595</td><td style=\"text-align: right;\">                 nan</td><td style=\"text-align: right;\">            nan</td><td style=\"text-align: right;\">             37.45</td><td>MAISON SAPRESTI</td><td>&quot;[&#x27;Au coeur de Noël&#x27;, &#x27;Repas de fête&#x27;, &#x27;Apéritif...</td><td>2022-12-17T23:28:18Z</td><td>80d320ef-9119-4bb2-a5f8-a765572b6e71</td><td>&#x27;https://www.auchan.fr/au-coeur-de-noel/repas-de...</td><td>&#x27;https://www.auchan.fr/maison-sapresti-cassolett...</td><td>3287390075888</td><td style=\"text-align: right;\">     793749</td><td>--            </td><td>&#x27;https://media.auchan.fr/MEDIASTEP91097795_460x4...</td><td style=\"text-align: right;\">                   0</td><td style=\"text-align: right;\">             0</td><td style=\"text-align: right;\">               0</td><td style=\"text-align: right;\">                 0</td><td style=\"text-align: right;\">             0</td><td style=\"text-align: right;\">          1</td><td style=\"text-align: right;\">          nan</td><td>--                   </td><td>--               </td><td>Cassolette de ris de veau                          </td><td style=\"text-align: right;\">                nan</td><td>{&quot;is_heard_on_radio&quot;: false}</td><td>2 pièces 2x100g   </td><td>WEB          </td><td style=\"text-align: right;\">              199</td><td>--                    </td><td style=\"text-align: right;\">          7.49</td><td>Prix promo            </td><td>--                     </td><td>--             </td><td style=\"text-align: right;\">           1</td><td>Auchan Drive  </td><td style=\"text-align: right;\">             nan</td><td style=\"text-align: right;\">  131770</td><td>--            </td><td>kg           </td><td style=\"text-align: right;\">                 1</td><td style=\"text-align: right;\">             nan</td><td>--                </td><td style=\"text-align: right;\">     69400</td></tr>\n",
       "</tbody>\n",
       "</table>"
      ],
      "text/plain": [
       "  #  language    country    job_id              productCategoryAlt    productAltEAN    productPriceBase  productBrand     productCategory                                      productDate           crawlID                               currentURL                                           productLinkDetail                                    productEAN       productID  productAltId    productImage                                           productIsAvailable    productIsBio    productIsFresh    productIsFreezer    productIsNew    promotion    isSponsored  productLotPriceBase    productLotPrice    productName                                            productNutriscore  other                         productPackaging    typeCrawler      productPosition  productPricePrevious      productPrice  productPromotionText    productQuantityRating    productRating      enseigneID  enseigneName      productService    shopID  productStock    productUnit      productValueUnit    variant_master  variant_position      zip_code\n",
       "  0  FR          FR         379974/15/182595                   nan              nan               15.07  SIMON            \"['Au coeur de Noël', 'Repas de fête', 'Apéritif...  2022-12-17T23:28:16Z  80d320ef-9119-4bb2-a5f8-a765572b6e71  'https://www.auchan.fr/au-coeur-de-noel/repas-de...  'https://www.auchan.fr/simon-salade-de-surimi-et...  --                  654455  --              'https://media.auchan.fr/A0219981110000654455PRI...                     0               0                 0                   0               0            0            nan  --                     --                 Salade de surimi et crabe                                            nan  {\"is_heard_on_radio\": false}  150g                WEB                          196  --                                2.26  --                      5                        5.0/5                       1  Auchan Drive                 nan    131770  --              kg                              1               nan  --                       69400\n",
       "  1  FR          FR         379974/15/182595                   nan              nan               21.3   APERIVRAIS       \"['Au coeur de Noël', 'Repas de fête', 'Apéritif...  2022-12-17T23:28:16Z  80d320ef-9119-4bb2-a5f8-a765572b6e71  'https://www.auchan.fr/au-coeur-de-noel/repas-de...  'https://www.auchan.fr/aperivrais-bouchees-de-fr...  --                  302905  --              'https://media.auchan.fr/A0219980204000302905PRI...                     0               0                 0                   0               0            0            nan  --                     --                 Bouchées de fromage frais aux saveurs d'Italie                       nan  {\"is_heard_on_radio\": false}  100g                WEB                          197  --                                2.13  --                      15                       4.7/5                       1  Auchan Drive                 nan    131770  --              kg                              1               nan  --                       69400\n",
       "  2  FR          FR         379974/15/182595                   nan              nan               21.3   APERIVRAIS       \"['Au coeur de Noël', 'Repas de fête', 'Apéritif...  2022-12-17T23:28:16Z  80d320ef-9119-4bb2-a5f8-a765572b6e71  'https://www.auchan.fr/au-coeur-de-noel/repas-de...  'https://www.auchan.fr/aperivrais-bouchees-de-fr...  --                  869762  --              'https://media.auchan.fr/MEDIASTEP163562236_460x...                     0               0                 0                   0               0            0            nan  --                     --                 Bouchées de fromage frais à l'ail et fines herbes                    nan  {\"is_heard_on_radio\": false}  100g                WEB                          198  --                                2.13  --                      9                        4.4/5                       1  Auchan Drive                 nan    131770  --              kg                              1               nan  --                       69400\n",
       "  3  FR          FR         379974/15/182595                   nan              nan               26.64  MIX BUFFET       \"['Au coeur de Noël', 'Repas de fête', 'Apéritif...  2022-12-17T23:28:17Z  80d320ef-9119-4bb2-a5f8-a765572b6e71  'https://www.auchan.fr/au-coeur-de-noel/repas-de...  'https://www.auchan.fr/mix-buffet-mini-prefou-sa...  3700009270394        29181  --              'https://media.auchan.fr/MEDIASTEP104548313_460x...                     0               0                 0                   0               0            0            nan  --                     --                 'Mini préfou saumon aneth ail persil noix St Jac...                  nan  {\"is_heard_on_radio\": false}  3 pièces 375g       WEB                          200  --                                9.99  --                      --                       --                          1  Auchan Drive                 nan    131770  --              kg                              1               nan  --                       69400\n",
       "  4  FR          FR         379974/15/182595                   nan              nan               37.45  MAISON SAPRESTI  \"['Au coeur de Noël', 'Repas de fête', 'Apéritif...  2022-12-17T23:28:18Z  80d320ef-9119-4bb2-a5f8-a765572b6e71  'https://www.auchan.fr/au-coeur-de-noel/repas-de...  'https://www.auchan.fr/maison-sapresti-cassolett...  3287390075888       793749  --              'https://media.auchan.fr/MEDIASTEP91097795_460x4...                     0               0                 0                   0               0            1            nan  --                     --                 Cassolette de ris de veau                                            nan  {\"is_heard_on_radio\": false}  2 pièces 2x100g     WEB                          199  --                                7.49  Prix promo              --                       --                          1  Auchan Drive                 nan    131770  --              kg                              1               nan  --                       69400"
      ]
     },
     "execution_count": 9,
     "metadata": {},
     "output_type": "execute_result"
    }
   ],
   "source": [
    "vdf.tail(5)"
   ]
  },
  {
   "cell_type": "code",
   "execution_count": 10,
   "id": "1fccff8b",
   "metadata": {},
   "outputs": [
    {
     "name": "stdout",
     "output_type": "stream",
     "text": [
      "[\n",
      "  \"['Produits laitiers, oeufs, fromages', 'Crèmerie, oeufs, laits, boissons végétales', 'Laits']\",\n",
      "  \"['Produits laitiers, oeufs, fromages', 'Crèmerie, oeufs, laits, boissons végétales', 'Oeufs']\",\n",
      "  \"['Hygiène, beauté, parapharmacie', 'Mouchoirs, protections hygiéniques, petite parapharmacie', 'Petite parapharmacie']\",\n",
      "  \"['Produits laitiers, oeufs, fromages', 'Crèmerie, oeufs, laits, boissons végétales', 'Margarines']\",\n",
      "  \"['Produits laitiers, oeufs, fromages', 'Crèmerie, oeufs, laits, boissons végétales', 'Margarines']\",\n",
      "  \"['Produits laitiers, oeufs, fromages', 'Desserts, compotes', 'Desserts soja, végétal']\",\n",
      "  \"['Produits laitiers, oeufs, fromages', 'Fromages à cuisiner, apéritifs, râpés', 'Fauxmage']\",\n",
      "  \"['Produits laitiers, oeufs, fromages', 'Fromages à cuisiner, apéritifs, râpés', 'Fauxmage']\",\n",
      "  \"['Produits laitiers, oeufs, fromages', 'Crèmerie, oeufs, laits, boissons végétales', 'Beurres']\",\n",
      "  \"['Au coeur de Noël', 'Idées cadeaux', 'La grande cave']\",\n",
      "  ...\n",
      "  \"['Au coeur de Noël', 'Repas de fête', 'Apéritifs et mises en bouche']\",\n",
      "  \"['Au coeur de Noël', 'Repas de fête', 'Apéritifs et mises en bouche']\",\n",
      "  \"['Au coeur de Noël', 'Repas de fête', 'Apéritifs et mises en bouche']\",\n",
      "  \"['Au coeur de Noël', 'Repas de fête', 'Apéritifs et mises en bouche']\",\n",
      "  \"['Au coeur de Noël', 'Repas de fête', 'Apéritifs et mises en bouche']\",\n",
      "  \"['Au coeur de Noël', 'Repas de fête', 'Apéritifs et mises en bouche']\",\n",
      "  \"['Au coeur de Noël', 'Repas de fête', 'Apéritifs et mises en bouche']\",\n",
      "  \"['Au coeur de Noël', 'Repas de fête', 'Apéritifs et mises en bouche']\",\n",
      "  \"['Au coeur de Noël', 'Repas de fête', 'Apéritifs et mises en bouche']\",\n",
      "  \"['Au coeur de Noël', 'Repas de fête', 'Apéritifs et mises en bouche']\"\n",
      "]\n"
     ]
    }
   ],
   "source": [
    "categories = vdf.productCategory.values # convert to list\n",
    "print(categories)"
   ]
  },
  {
   "cell_type": "code",
   "execution_count": null,
   "id": "be2206cd",
   "metadata": {},
   "outputs": [],
   "source": []
  }
 ],
 "metadata": {
  "jupytext": {
   "formats": "ipynb,py:hydrogen"
  },
  "jupytext_formats": "ipynb,py",
  "kernelspec": {
   "display_name": "Python 3 (ipykernel)",
   "language": "python",
   "name": "python3"
  },
  "language_info": {
   "codemirror_mode": {
    "name": "ipython",
    "version": 3
   },
   "file_extension": ".py",
   "mimetype": "text/x-python",
   "name": "python",
   "nbconvert_exporter": "python",
   "pygments_lexer": "ipython3",
   "version": "3.8.13"
  }
 },
 "nbformat": 4,
 "nbformat_minor": 5
}
